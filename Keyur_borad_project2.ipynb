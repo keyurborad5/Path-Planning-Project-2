{
 "cells": [
  {
   "cell_type": "markdown",
   "metadata": {},
   "source": [
    "# ENPM661 Project 2\n",
    "\n",
    "##### Learning Heapq for Priority queue\n"
   ]
  },
  {
   "cell_type": "markdown",
   "metadata": {},
   "source": []
  },
  {
   "cell_type": "code",
   "execution_count": 2,
   "metadata": {},
   "outputs": [
    {
     "name": "stdout",
     "output_type": "stream",
     "text": [
      "The created heap is :  [1, 3, 9, 7, 5]\n"
     ]
    }
   ],
   "source": [
    "# importing \"heapq\" to implement heap queue\n",
    "import heapq\n",
    "\n",
    "# initializing list\n",
    "li = [5, 7, 9, 1, 3]\n",
    "\n",
    "# using heapify to convert list into heap\n",
    "heapq.heapify(li)\n",
    "\n",
    "# printing created heap\n",
    "print (\"The created heap is : \",(list(li)))\n"
   ]
  },
  {
   "cell_type": "code",
   "execution_count": 4,
   "metadata": {},
   "outputs": [
    {
     "name": "stdout",
     "output_type": "stream",
     "text": [
      "The created heap is : [1, 3, 9, 7, 5]\n",
      "The modified heap after push is : [1, 3, 4, 7, 5, 9]\n",
      "The popped and smallest element is : 1\n",
      "The modified heap after pop is : [3, 5, 4, 7, 9]\n"
     ]
    }
   ],
   "source": [
    "# importing \"heapq\" to implement heap queue\n",
    "import heapq\n",
    "\n",
    "# initializing list\n",
    "li = [5, 7, 9, 1, 3]\n",
    "\n",
    "# using heapify to convert list into heap\n",
    "heapq.heapify(li)\n",
    "\n",
    "# printing created heap\n",
    "print(\"The created heap is : \", end=\"\")\n",
    "print(list(li))\n",
    "\n",
    "# using heappush() to push elements into heap\n",
    "# pushes 4\n",
    "heapq.heappush(li, 4)\n",
    "\n",
    "# printing modified heap\n",
    "print(\"The modified heap after push is : \", end=\"\")\n",
    "print(list(li))\n",
    "\n",
    "# using heappop() to pop smallest element\n",
    "print(\"The popped and smallest element is : \", end=\"\")\n",
    "print(heapq.heappop(li))\n",
    "\n",
    "# printing modified heap\n",
    "print(\"The modified heap after pop is : \", end=\"\")\n",
    "print(list(li))\n"
   ]
  },
  {
   "cell_type": "code",
   "execution_count": 8,
   "metadata": {},
   "outputs": [
    {
     "name": "stdout",
     "output_type": "stream",
     "text": [
      "The popped item using heappushpop() is : 2\n",
      "The popped item using heapreplace() is : 3\n",
      "2\n"
     ]
    }
   ],
   "source": [
    "# importing \"heapq\" to implement heap queue\n",
    "import heapq\n",
    "\n",
    "# initializing list 1\n",
    "li1 = [5, 8, 9, 4, 3]\n",
    "\n",
    "# initializing list 2\n",
    "li2 = [5, 7, 9, 4, 3]\n",
    "\n",
    "# using heapify() to convert list into heap\n",
    "heapq.heapify(li1)\n",
    "heapq.heapify(li2)\n",
    "\n",
    "# using heappushpop() to push and pop items simultaneously\n",
    "# First push then pop from updated list\n",
    "# pops 2\n",
    "print(\"The popped item using heappushpop() is : \", end=\"\")\n",
    "print(heapq.heappushpop(li1, 2))\n",
    "\n",
    "# using heapreplace() to push and pop items simultaneously\n",
    "# First pop then push from updated list\n",
    "# pops 3\n",
    "print(\"The popped item using heapreplace() is : \", end=\"\")\n",
    "print(heapq.heapreplace(li2, 2))\n",
    "print(\"The popped item using heappop() is : \", end=\"\")\n",
    "print(heapq.heappop(li2))\n",
    "\n"
   ]
  },
  {
   "cell_type": "code",
   "execution_count": 9,
   "metadata": {},
   "outputs": [
    {
     "name": "stdout",
     "output_type": "stream",
     "text": [
      "The 3 largest numbers in list are : [10, 9, 8]\n",
      "The 3 smallest numbers in list are : [1, 3, 4]\n"
     ]
    }
   ],
   "source": [
    "# Python code to demonstrate working of\n",
    "# nlargest() and nsmallest()\n",
    "\n",
    "# importing \"heapq\" to implement heap queue\n",
    "import heapq\n",
    "\n",
    "# initializing list\n",
    "li1 = [6, 7, 9, 4, 3, 5, 8, 10, 1]\n",
    "\n",
    "# using heapify() to convert list into heap\n",
    "heapq.heapify(li1)\n",
    "\n",
    "# using nlargest to print 3 largest numbers\n",
    "# prints 10, 9 and 8\n",
    "print(\"The 3 largest numbers in list are : \", end=\"\")\n",
    "print(heapq.nlargest(3, li1))\n",
    "\n",
    "# using nsmallest to print 3 smallest numbers\n",
    "# prints 1, 3 and 4\n",
    "print(\"The 3 smallest numbers in list are : \", end=\"\")\n",
    "print(heapq.nsmallest(3, li1))\n"
   ]
  },
  {
   "cell_type": "code",
   "execution_count": 12,
   "metadata": {},
   "outputs": [
    {
     "name": "stdout",
     "output_type": "stream",
     "text": [
      "[(23, 3, 0, (7, 1)), (43, 2, 0, (4, 5)), (34, 1, 0, (2, 3))]\n",
      "[(23, 3, 0, (7, 1)), (43, 2, 0, (4, 5)), (34, 1, 0, (2, 3))]\n",
      "First lowest cost element in heap:  Cost to come: 23 Parent Node index: 3 Current Index: 0 Coordinates (x,y): (7, 1)\n",
      "Second lowest cost element in heap:  Cost to come: 34 Parent Node index: 1 Current Index: 0 Coordinates (x,y): (2, 3)\n",
      "Third lowest cost element in heap:  Cost to come: 43 Parent Node index: 2 Current Index: 0 Coordinates (x,y): (4, 5)\n"
     ]
    }
   ],
   "source": [
    "import heapq as hq\n",
    "\n",
    "# creating tuple with cost to come, index, parent node index=0 and coordinate values (x,y) \n",
    "d1 = (34, 1, 0, (2,3))  \n",
    "d2 = (43, 2, 0, (4,5))\n",
    "d3 = (23, 3, 0, (7,1))\n",
    "\n",
    "#Initialising the list to be used in priority queue\n",
    "Q = []\n",
    "\n",
    "#Push elements to queue\n",
    "hq.heappush(Q, d1)\n",
    "hq.heappush(Q, d2)\n",
    "hq.heappush(Q, d3)\n",
    "print(Q)\n",
    "hq.heapify(Q)\n",
    "print(Q)\n",
    "\n",
    "first = hq.heappop(Q)\n",
    "print(\"First lowest cost element in heap: \", \"Cost to come:\", first[0], \"Parent Node index:\", first[1], \"Current Index:\", first[2], \"Coordinates (x,y):\", first[3])\n",
    "first = hq.heappop(Q)\n",
    "print(\"Second lowest cost element in heap: \", \"Cost to come:\", first[0], \"Parent Node index:\", first[1], \"Current Index:\", first[2], \"Coordinates (x,y):\", first[3])\n",
    "first = hq.heappop(Q)\n",
    "print(\"Third lowest cost element in heap: \", \"Cost to come:\", first[0], \"Parent Node index:\", first[1], \"Current Index:\", first[2], \"Coordinates (x,y):\", first[3])"
   ]
  },
  {
   "cell_type": "code",
   "execution_count": 11,
   "metadata": {},
   "outputs": [
    {
     "name": "stdout",
     "output_type": "stream",
     "text": [
      "[]\n"
     ]
    }
   ],
   "source": [
    "print(Q)"
   ]
  },
  {
   "cell_type": "code",
   "execution_count": 15,
   "metadata": {},
   "outputs": [
    {
     "name": "stdout",
     "output_type": "stream",
     "text": [
      "Collecting matplotlibNote: you may need to restart the kernel to use updated packages.\n",
      "\n",
      "  Using cached matplotlib-3.8.3-cp312-cp312-win_amd64.whl.metadata (5.9 kB)\n",
      "Collecting contourpy>=1.0.1 (from matplotlib)\n",
      "  Using cached contourpy-1.2.0-cp312-cp312-win_amd64.whl.metadata (5.8 kB)\n",
      "Collecting cycler>=0.10 (from matplotlib)\n",
      "  Using cached cycler-0.12.1-py3-none-any.whl.metadata (3.8 kB)\n",
      "Collecting fonttools>=4.22.0 (from matplotlib)\n",
      "  Using cached fonttools-4.49.0-cp312-cp312-win_amd64.whl.metadata (162 kB)\n",
      "Collecting kiwisolver>=1.3.1 (from matplotlib)\n",
      "  Using cached kiwisolver-1.4.5-cp312-cp312-win_amd64.whl.metadata (6.5 kB)\n",
      "Requirement already satisfied: numpy<2,>=1.21 in e:\\university of maryland\\sem 2\\661 path planning\\assisgnments\\.enpm661\\lib\\site-packages (from matplotlib) (1.26.4)\n",
      "Requirement already satisfied: packaging>=20.0 in e:\\university of maryland\\sem 2\\661 path planning\\assisgnments\\.enpm661\\lib\\site-packages (from matplotlib) (23.2)\n",
      "Collecting pillow>=8 (from matplotlib)\n",
      "  Using cached pillow-10.2.0-cp312-cp312-win_amd64.whl.metadata (9.9 kB)\n",
      "Collecting pyparsing>=2.3.1 (from matplotlib)\n",
      "  Downloading pyparsing-3.1.2-py3-none-any.whl.metadata (5.1 kB)\n",
      "Requirement already satisfied: python-dateutil>=2.7 in e:\\university of maryland\\sem 2\\661 path planning\\assisgnments\\.enpm661\\lib\\site-packages (from matplotlib) (2.8.2)\n",
      "Requirement already satisfied: six>=1.5 in e:\\university of maryland\\sem 2\\661 path planning\\assisgnments\\.enpm661\\lib\\site-packages (from python-dateutil>=2.7->matplotlib) (1.16.0)\n",
      "Using cached matplotlib-3.8.3-cp312-cp312-win_amd64.whl (7.6 MB)\n",
      "Using cached contourpy-1.2.0-cp312-cp312-win_amd64.whl (187 kB)\n",
      "Using cached cycler-0.12.1-py3-none-any.whl (8.3 kB)\n",
      "Using cached fonttools-4.49.0-cp312-cp312-win_amd64.whl (2.2 MB)\n",
      "Using cached kiwisolver-1.4.5-cp312-cp312-win_amd64.whl (56 kB)\n",
      "Using cached pillow-10.2.0-cp312-cp312-win_amd64.whl (2.6 MB)\n",
      "Downloading pyparsing-3.1.2-py3-none-any.whl (103 kB)\n",
      "   ---------------------------------------- 0.0/103.2 kB ? eta -:--:--\n",
      "   ---------------------------------------  102.4/103.2 kB 5.8 MB/s eta 0:00:01\n",
      "   ---------------------------------------- 103.2/103.2 kB 1.5 MB/s eta 0:00:00\n",
      "Installing collected packages: pyparsing, pillow, kiwisolver, fonttools, cycler, contourpy, matplotlib\n",
      "Successfully installed contourpy-1.2.0 cycler-0.12.1 fonttools-4.49.0 kiwisolver-1.4.5 matplotlib-3.8.3 pillow-10.2.0 pyparsing-3.1.2\n"
     ]
    }
   ],
   "source": [
    "pip install matplotlib"
   ]
  },
  {
   "cell_type": "code",
   "execution_count": 17,
   "metadata": {},
   "outputs": [
    {
     "data": {
      "image/png": "[encoded data removed]",
      "text/plain": [
       "<Figure size 640x480 with 1 Axes>"
      ]
     },
     "metadata": {},
     "output_type": "display_data"
    }
   ],
   "source": [
    "import numpy as np\n",
    "import matplotlib.pyplot as plt\n",
    "\n",
    "# Define boundary\n",
    "x_min, x_max = -10, 10\n",
    "y_min, y_max = -10, 10\n",
    "\n",
    "# Define circle parameters\n",
    "circle1_center = (0, 0)\n",
    "circle1_radius = 5\n",
    "circle2_center = (2, 2)\n",
    "circle2_radius = 3\n",
    "\n",
    "# Create grid\n",
    "x_values = np.linspace(x_min, x_max, 100)\n",
    "y_values = np.linspace(y_min, y_max, 100)\n",
    "X, Y = np.meshgrid(x_values, y_values)\n",
    "\n",
    "# Create obstacle space\n",
    "obstacle_space = np.zeros_like(X, dtype=bool)\n",
    "\n",
    "# Evaluate obstacle equations (circles)\n",
    "obstacle_space[((X - circle1_center[0])**2 + (Y - circle1_center[1])**2) <= circle1_radius**2] = True\n",
    "obstacle_space[((X - circle2_center[0])**2 + (Y - circle2_center[1])**2) <= circle2_radius**2] = True\n",
    "\n",
    "# Plot obstacle space\n",
    "plt.imshow(obstacle_space, extent=(x_min, x_max, y_min, y_max), origin='lower', cmap='gray')\n",
    "plt.xlabel('X')\n",
    "plt.ylabel('Y')\n",
    "plt.title('2D Obstacle Space')\n",
    "plt.grid(False)\n",
    "plt.show()\n"
   ]
  },
  {
   "cell_type": "code",
   "execution_count": 18,
   "metadata": {},
   "outputs": [
    {
     "data": {
      "image/png": "[encoded data removed]",
      "text/plain": [
       "<Figure size 640x480 with 1 Axes>"
      ]
     },
     "metadata": {},
     "output_type": "display_data"
    }
   ],
   "source": [
    "import numpy as np\n",
    "import matplotlib.pyplot as plt\n",
    "\n",
    "# Define boundary of the space\n",
    "x_min, x_max = -10, 10\n",
    "y_min, y_max = -10, 10\n",
    "\n",
    "# Define linear inequalities defining the rectangular free space\n",
    "def in_free_space(x, y):\n",
    "    return (x >= -5) and (x <= 5) and (y >= -3) and (y <= 3)\n",
    "\n",
    "# Create grid\n",
    "x_values = np.linspace(x_min, x_max, 100)\n",
    "y_values = np.linspace(y_min, y_max, 100)\n",
    "X, Y = np.meshgrid(x_values, y_values)\n",
    "\n",
    "# Evaluate inequalities to determine free space\n",
    "free_space = np.zeros_like(X, dtype=bool)\n",
    "for i in range(X.shape[0]):\n",
    "    for j in range(X.shape[1]):\n",
    "        free_space[i, j] = in_free_space(X[i, j], Y[i, j])\n",
    "\n",
    "# Plot free space\n",
    "plt.imshow(free_space, extent=(x_min, x_max, y_min, y_max), origin='lower', cmap='gray')\n",
    "plt.xlabel('X')\n",
    "plt.ylabel('Y')\n",
    "plt.title('Semi-Algebraic Model of Free Space')\n",
    "plt.grid(True)\n",
    "plt.show()\n"
   ]
  },
  {
   "cell_type": "code",
   "execution_count": 20,
   "metadata": {},
   "outputs": [
    {
     "name": "stdout",
     "output_type": "stream",
     "text": [
      "Collecting opencv-python\n",
      "  Using cached opencv_python-4.9.0.80-cp37-abi3-win_amd64.whl.metadata (20 kB)\n",
      "Requirement already satisfied: numpy>=1.21.2 in e:\\university of maryland\\sem 2\\661 path planning\\assisgnments\\.enpm661\\lib\\site-packages (from opencv-python) (1.26.4)\n",
      "Using cached opencv_python-4.9.0.80-cp37-abi3-win_amd64.whl (38.6 MB)\n",
      "Installing collected packages: opencv-python\n",
      "Successfully installed opencv-python-4.9.0.80\n",
      "Note: you may need to restart the kernel to use updated packages.\n"
     ]
    }
   ],
   "source": [
    "pip install opencv-python"
   ]
  },
  {
   "cell_type": "markdown",
   "metadata": {},
   "source": [
    "### Defining the canvas"
   ]
  },
  {
   "cell_type": "code",
   "execution_count": 84,
   "metadata": {},
   "outputs": [
    {
     "name": "stdout",
     "output_type": "stream",
     "text": [
      "Canvas shape: (500, 1200, 3)\n"
     ]
    }
   ],
   "source": [
    "import numpy as np\n",
    "import cv2\n",
    "\n",
    "# Define canvas size\n",
    "canvas_height = 500\n",
    "canvas_width = 1200\n",
    "\n",
    "# Create canvas\n",
    "canvas = np.zeros((canvas_height, canvas_width, 3), dtype=np.uint8)\n",
    "\n",
    "# Display canvas shape\n",
    "print(\"Canvas shape:\", canvas.shape)\n",
    "cv2.imshow('window',canvas)\n",
    "cv2.waitKey(0)\n",
    "cv2.destroyAllWindows()"
   ]
  },
  {
   "cell_type": "code",
   "execution_count": 85,
   "metadata": {},
   "outputs": [],
   "source": [
    "\n",
    "for i in range(400):\n",
    "    canvas[i][100:175][:]=[255,255,255]"
   ]
  },
  {
   "cell_type": "code",
   "execution_count": 86,
   "metadata": {},
   "outputs": [],
   "source": [
    "for i in range(100,500):\n",
    "    canvas[i][275:350][:]=[255,255,255]"
   ]
  },
  {
   "cell_type": "code",
   "execution_count": 87,
   "metadata": {},
   "outputs": [
    {
     "data": {
      "text/plain": [
       "array([[[0, 0, 0],\n",
       "        [0, 0, 0],\n",
       "        [0, 0, 0],\n",
       "        ...,\n",
       "        [0, 0, 0],\n",
       "        [0, 0, 0],\n",
       "        [0, 0, 0]],\n",
       "\n",
       "       [[0, 0, 0],\n",
       "        [0, 0, 0],\n",
       "        [0, 0, 0],\n",
       "        ...,\n",
       "        [0, 0, 0],\n",
       "        [0, 0, 0],\n",
       "        [0, 0, 0]],\n",
       "\n",
       "       [[0, 0, 0],\n",
       "        [0, 0, 0],\n",
       "        [0, 0, 0],\n",
       "        ...,\n",
       "        [0, 0, 0],\n",
       "        [0, 0, 0],\n",
       "        [0, 0, 0]],\n",
       "\n",
       "       ...,\n",
       "\n",
       "       [[0, 0, 0],\n",
       "        [0, 0, 0],\n",
       "        [0, 0, 0],\n",
       "        ...,\n",
       "        [0, 0, 0],\n",
       "        [0, 0, 0],\n",
       "        [0, 0, 0]],\n",
       "\n",
       "       [[0, 0, 0],\n",
       "        [0, 0, 0],\n",
       "        [0, 0, 0],\n",
       "        ...,\n",
       "        [0, 0, 0],\n",
       "        [0, 0, 0],\n",
       "        [0, 0, 0]],\n",
       "\n",
       "       [[0, 0, 0],\n",
       "        [0, 0, 0],\n",
       "        [0, 0, 0],\n",
       "        ...,\n",
       "        [0, 0, 0],\n",
       "        [0, 0, 0],\n",
       "        [0, 0, 0]]], dtype=uint8)"
      ]
     },
     "execution_count": 87,
     "metadata": {},
     "output_type": "execute_result"
    }
   ],
   "source": [
    "# Define side length of the hexagon\n",
    "side_length = 150\n",
    "\n",
    "\n",
    "# Calculate center of the canvas\n",
    "center_x = 650\n",
    "center_y = 250\n",
    "\n",
    "# Calculate coordinates of the vertices\n",
    "angles = np.linspace(np.pi/6,  2*np.pi+np.pi/6, 7)[:-1]  # Angles for each vertex\n",
    "x = np.int32(center_x + side_length * np.cos(angles))  # X coordinates\n",
    "y = np.int32(center_y + side_length * np.sin(angles))  # Y coordinates\n",
    "\n",
    "# Reshape the coordinates for OpenCV's fillPoly function\n",
    "pts = np.array([x, y], np.int32).T.reshape((-1, 1, 2))\n",
    "\n",
    "# Draw the hexagon on the canvas\n",
    "cv2.fillPoly(canvas, [pts], color=(255, 255, 255))  # Fill the hexag"
   ]
  },
  {
   "cell_type": "code",
   "execution_count": 88,
   "metadata": {},
   "outputs": [],
   "source": [
    "for i in range(50,125):\n",
    "    canvas[i][900:1100][:]=[255,255,255]\n",
    "for i in range(125,375):\n",
    "    canvas[i][1020:1100][:]=[255,255,255]\n",
    "for i in range(375,450):\n",
    "    canvas[i][900:1100][:]=[255,255,255]"
   ]
  },
  {
   "cell_type": "code",
   "execution_count": 89,
   "metadata": {},
   "outputs": [
    {
     "name": "stdout",
     "output_type": "stream",
     "text": [
      "Canvas shape: (500, 1200, 3)\n"
     ]
    }
   ],
   "source": [
    "print(\"Canvas shape:\", canvas.shape)\n",
    "cv2.imshow('window',canvas)\n",
    "cv2.waitKey(0)\n",
    "cv2.destroyAllWindows()"
   ]
  },
  {
   "cell_type": "code",
   "execution_count": 90,
   "metadata": {},
   "outputs": [],
   "source": [
    "#using Lists\n",
    "# Obstacle_Space=[]\n",
    "# for i in range(canvas.shape[1]):\n",
    "#     for j in range(canvas.shape[0]):\n",
    "#         if np.array_equal(canvas[j][i], [255, 255, 255]):\n",
    "#             Obstacle_Space.append([i,-j+500])\n",
    "#using Sets\n",
    "Obstacle_Space=set()\n",
    "for i in range(canvas.shape[1]):\n",
    "    for j in range(canvas.shape[0]):\n",
    "        if np.array_equal(canvas[j][i], [255, 255, 255]):\n",
    "            Obstacle_Space.add((i,-j+500))"
   ]
  },
  {
   "cell_type": "code",
   "execution_count": 27,
   "metadata": {},
   "outputs": [
    {
     "name": "stdout",
     "output_type": "stream",
     "text": [
      "<class 'set'>\n"
     ]
    }
   ],
   "source": [
    "print(type(Obstacle_Space))"
   ]
  },
  {
   "cell_type": "code",
   "execution_count": 29,
   "metadata": {},
   "outputs": [
    {
     "name": "stdout",
     "output_type": "stream",
     "text": [
      "yaay\n"
     ]
    }
   ],
   "source": [
    "#using Sets\n",
    "if {(1000,375)}.issubset(Obstacle_Space)==False:\n",
    "    print(\"yaay\")\n",
    "else: print(\"NAAYY\")"
   ]
  },
  {
   "cell_type": "code",
   "execution_count": 9,
   "metadata": {},
   "outputs": [
    {
     "name": "stdout",
     "output_type": "stream",
     "text": [
      "next\n"
     ]
    }
   ],
   "source": [
    "\n",
    "#using Lists\n",
    "if [1020,375] not in Obstacle_Space:\n",
    "    print('y')\n",
    "else:\n",
    "    print('next')"
   ]
  },
  {
   "cell_type": "code",
   "execution_count": 12,
   "metadata": {},
   "outputs": [
    {
     "name": "stdout",
     "output_type": "stream",
     "text": [
      "Initial coordinates: 110.0 110.0\n",
      "Final coordinates: 110.0 0.0\n"
     ]
    }
   ],
   "source": [
    "def get_coordinates(prompt):\n",
    "    while True:\n",
    "        try:\n",
    "            x = float(input(prompt + \" X coordinate: \"))\n",
    "            y = float(input(prompt + \" Y coordinate: \"))\n",
    "            return x, y\n",
    "        except ValueError:\n",
    "            print(\"Invalid input. Please enter numeric values.\")\n",
    "\n",
    "# Get initial coordinates\n",
    "initial_x, initial_y = get_coordinates(\"Enter initial\")\n",
    "print(\"Initial coordinates:\", initial_x, initial_y)\n",
    "\n",
    "# Get final coordinates\n",
    "final_x, final_y = get_coordinates(\"Enter final\")\n",
    "print(\"Final coordinates:\", final_x, final_y)\n"
   ]
  },
  {
   "cell_type": "code",
   "execution_count": 26,
   "metadata": {},
   "outputs": [
    {
     "name": "stdout",
     "output_type": "stream",
     "text": [
      " Enter initial x values:\n",
      " Enter initial y values:\n",
      "1000 200\n",
      " Enter final x values:\n",
      " Enter final y values:\n",
      " enter valid coordinare \n",
      "\n",
      " Enter final x values:\n",
      " Enter final y values:\n",
      "1000 200\n"
     ]
    }
   ],
   "source": [
    "\n",
    "while True:\n",
    "    init_x=int(input(print(\" Enter initial x values:\")))\n",
    "    init_y=int(input(print(\" Enter initial y values:\")))\n",
    "    if [init_x,init_y] not in Obstacle_Space:\n",
    "        break\n",
    "    else: \n",
    "        print(\" enter valid coordinare \\n\")\n",
    "print(init_x,init_y)\n",
    "\n",
    "while True:\n",
    "    final_x=int(input(print(\" Enter final x values:\")))\n",
    "    final_y=int(input(print(\" Enter final y values:\")))\n",
    "    if [final_x,final_y] not in Obstacle_Space:\n",
    "        break\n",
    "    else: \n",
    "        print(\" enter valid coordinare \\n\")\n",
    "\n",
    "print(final_x,final_y)"
   ]
  },
  {
   "cell_type": "markdown",
   "metadata": {},
   "source": [
    "##### Defining Actions as a functions"
   ]
  },
  {
   "cell_type": "code",
   "execution_count": 10,
   "metadata": {},
   "outputs": [
    {
     "name": "stdout",
     "output_type": "stream",
     "text": [
      "---------------\n",
      "(5, 6) 1\n",
      "---------------\n",
      "(6, 5) 1\n",
      "---------------\n",
      "(5, 4) 1\n",
      "---------------\n",
      "(4, 5) 1\n",
      "---------------\n",
      "(4, 6) 1.4\n",
      "---------------\n",
      "(4, 4) 1.4\n",
      "---------------\n",
      "(6, 4) 1.4\n",
      "---------------\n",
      "(6, 6) 1.4\n"
     ]
    }
   ],
   "source": [
    "# creating tuple with cost to come, node index, parent node index=0 and coordinate values (x,y) \n",
    "# creating tuple with cost to come, node index, parent node index=0 and coordinate values (x,y) \n",
    "d1 = (34, 1, 0, (5,5))   \n",
    "def move_up(node):\n",
    "    c2c=1\n",
    "    return node[3][0],(node[3][1]+1),1\n",
    "def move_up_right(node):\n",
    "    c2c=1.4\n",
    "    return (node[3][0]+1),(node[3][1]+1),1.4\n",
    "def move_right(node):\n",
    "    c2c=1\n",
    "    return (node[3][0]+1),(node[3][1]),1\n",
    "def move_down_right(node):\n",
    "    c2c=1.4\n",
    "    return (node[3][0]+1),(node[3][1]-1),1.4\n",
    "def move_down(node):\n",
    "    c2c=1\n",
    "    return (node[3][0]),(node[3][1]-1),1\n",
    "def move_down_left(node):\n",
    "    c2c=1.4\n",
    "    return (node[3][0]-1),(node[3][1]-1),1.4\n",
    "def move_left(node):\n",
    "    c2c=1\n",
    "    return (node[3][0]-1),(node[3][1]),1\n",
    "def move_up_left(node):\n",
    "    c2c=1.4\n",
    "    return (node[3][0]-1),(node[3][1]+1),1.4\n",
    "\n",
    "ctc=0\n",
    "listt=[move_up,move_right,move_down,move_left,move_up_left,move_down_left,move_down_right,move_up_right]\n",
    "for action in listt:\n",
    "    print(\"---------------\")\n",
    "    d_1=action(d1)\n",
    "    print(d_1[:2],d_1[2])\n",
    "\n",
    "\n"
   ]
  },
  {
   "cell_type": "code",
   "execution_count": 94,
   "metadata": {},
   "outputs": [],
   "source": [
    "init_x=60\n",
    "init_y=300\n",
    "final_x=1010\n",
    "final_y=360"
   ]
  },
  {
   "cell_type": "code",
   "execution_count": 95,
   "metadata": {},
   "outputs": [
    {
     "name": "stdout",
     "output_type": "stream",
     "text": [
      "(1382.8000000000004, 343911, 343251, (1010, 360))\n"
     ]
    }
   ],
   "source": [
    "# Creating open and closed lists\n",
    "import heapq as hq\n",
    "open_nodes=[]\n",
    "closed_nodes=[]\n",
    "hq.heapify(open_nodes)\n",
    "hq.heapify(closed_nodes)\n",
    "closed_set=set()\n",
    "c2c=0\n",
    "node_index=1\n",
    "parent_node_index=0\n",
    "cost_to_come=0\n",
    "start_node=(cost_to_come,node_index,parent_node_index,(init_x,init_y))\n",
    "hq.heappush(open_nodes,start_node)\n",
    "#Flag for goal node found\n",
    "found_goal=False\n",
    "# i=0\n",
    "while (open_nodes and found_goal!=True):\n",
    "    ######################\n",
    "    #Checking termination of while loop\n",
    "    # print(hq.heappop(open_nodes))\n",
    "    #Checking termination of while loop\n",
    "    # i+=1\n",
    "    # print(i)\n",
    "    # if i==10:\n",
    "    #     found_goal=True\n",
    "    ######################\n",
    "    # Fetching the node with lowest c2c from openlist\n",
    "    current_node=hq.heappop(open_nodes)\n",
    "    # Pushing the node into closed list\n",
    "    hq.heappush(closed_nodes,current_node)\n",
    "    closed_set.add(current_node[3])\n",
    "    # Verifying the fetched node is goal node or not\n",
    "    if current_node[3]==(final_x,final_y):\n",
    "        print(current_node)\n",
    "        found_goal=True\n",
    "        ##Backtracking after exiting this while loop\n",
    "    # If not following code is executed\n",
    "    else:\n",
    "        \n",
    "        parent_node_index=current_node[2]\n",
    "        cost_to_come=current_node[0]\n",
    "        for action in listt:\n",
    "            action_output=action(current_node)\n",
    "            if action_output[0]<1200 and action_output[0]>0 and action_output[1]<500 and action_output[1]>0:\n",
    "\n",
    "                new_node=action_output[:2]\n",
    "                action_c2c=action_output[2]\n",
    "                # closed_node_flag=False\n",
    "                if ({new_node}.issubset(closed_set)==False):\n",
    "                #     closed_node_flag=True\n",
    "                \n",
    "                # if closed_node_flag==False:\n",
    "                \n",
    "                    if {new_node}.issubset(Obstacle_Space)==False:\n",
    "                    # if (new_node not in Obstacle_Space):\n",
    "                            open_node_flag=False\n",
    "                        # if{new_node}.issubset(set(open_nodes[3])):\n",
    "                        #     open_node_flag=True\n",
    "                            for i in range(len(open_nodes)):\n",
    "                                    if open_nodes[i][3]==new_node:\n",
    "                                        open_node_flag=True\n",
    "                                        if open_nodes[i][0]>(cost_to_come+action_c2c):\n",
    "                                            open_nodes[i]=(cost_to_come+action_c2c,open_nodes[i][1],current_node[1],open_nodes[i][3])\n",
    "                                            # open_nodes[i][0]=cost_to_come+action_c2c\n",
    "                                            # open_nodes[i][2]=current_node[1]\n",
    "                                            break\n",
    "                                        else:\n",
    "                                            break\n",
    "                            \n",
    "                            if open_node_flag==False:\n",
    "                                node_index+=1\n",
    "                                hq.heappush(open_nodes,(cost_to_come+action_c2c,node_index,current_node[1],new_node))\n",
    "                            else:#FOr Open_node_falg \n",
    "                                pass\n",
    "                    else:\n",
    "                        continue    \n",
    "                else:#For closed_node_flag condition\n",
    "                    continue        \n",
    "\n",
    "\n",
    "                    \n",
    "        \n",
    "\n",
    "    \n",
    "\n",
    "# if found_goal==True:\n",
    "    #Backtracking"
   ]
  },
  {
   "cell_type": "code",
   "execution_count": 96,
   "metadata": {},
   "outputs": [],
   "source": [
    "canvas_1=canvas\n",
    "parent= current_node[2]\n",
    "backtrack=[]\n",
    "while parent!=0:\n",
    "    for nodees in closed_nodes:\n",
    "        if nodees[1]==parent:\n",
    "            backtrack.append(nodees[3])\n",
    "            cv2.circle(canvas_1, (nodees[3][0],500-nodees[3][1]), 1, [0,0,255], -1)\n",
    "            parent=nodees[2]\n",
    "\n",
    "cv2.imshow('window',canvas_1)\n",
    "cv2.waitKey(0)\n",
    "cv2.destroyAllWindows()\n"
   ]
  },
  {
   "cell_type": "code",
   "execution_count": 97,
   "metadata": {},
   "outputs": [],
   "source": [
    "cv2.imshow('win',canvas_1)\n",
    "cv2.waitKey(0)\n",
    "cv2.destroyAllWindows()"
   ]
  },
  {
   "cell_type": "code",
   "execution_count": 97,
   "metadata": {},
   "outputs": [],
   "source": [
    "for ele in closed_nodes:\n",
    "    if ele[3][1]<=0:\n",
    "        print(ele[3])"
   ]
  },
  {
   "cell_type": "code",
   "execution_count": 106,
   "metadata": {},
   "outputs": [
    {
     "name": "stdout",
     "output_type": "stream",
     "text": [
      "(10, 20)\n"
     ]
    }
   ],
   "source": [
    "diction={200:{12:{2:(10,20)}}}\n",
    "print(diction[200][12][2])"
   ]
  },
  {
   "cell_type": "markdown",
   "metadata": {},
   "source": [
    "There are four collection data types in the Python programming language:\n",
    "\n",
    "List is a collection which is ordered and changeable. Allows duplicate members.\n",
    "\n",
    "Tuple is a collection which is ordered and unchangeable. Allows duplicate members.\n",
    "\n",
    "Set is a collection which is unordered, unchangeable*, and unindexed. No duplicate members.\n",
    "\n",
    "Dictionary is a collection which is ordered** and changeable. No duplicate members."
   ]
  },
  {
   "cell_type": "markdown",
   "metadata": {},
   "source": []
  },
  {
   "cell_type": "code",
   "execution_count": 178,
   "metadata": {},
   "outputs": [
    {
     "name": "stdout",
     "output_type": "stream",
     "text": [
      "<class 'list'>\n",
      "<class 'set'>\n",
      "{(3, 1), (7, 22), (3000, 4), (5, 6), (1000, 2)}\n",
      "False\n"
     ]
    }
   ],
   "source": [
    "aa=[(1000,2),(3000,4),(5,6),(7,22),(3,1)]\n",
    "print(type(aa))\n",
    "aa=set(aa)\n",
    "bb=set([(3000,4),(5,6)])\n",
    "\n",
    "print(type(aa))\n",
    "print(aa)\n",
    "print(bb.issubset(aa))"
   ]
  },
  {
   "cell_type": "code",
   "execution_count": 163,
   "metadata": {},
   "outputs": [
    {
     "name": "stdout",
     "output_type": "stream",
     "text": [
      "<class 'set'>\n"
     ]
    }
   ],
   "source": [
    "ss=set()\n",
    "print(type(ss))"
   ]
  },
  {
   "cell_type": "code",
   "execution_count": 164,
   "metadata": {},
   "outputs": [
    {
     "name": "stdout",
     "output_type": "stream",
     "text": [
      "{2}\n"
     ]
    }
   ],
   "source": [
    "ss.add(2)\n",
    "print(ss)"
   ]
  },
  {
   "cell_type": "code",
   "execution_count": 165,
   "metadata": {},
   "outputs": [
    {
     "name": "stdout",
     "output_type": "stream",
     "text": [
      "{'good', 2}\n"
     ]
    }
   ],
   "source": [
    "ss.add(\"good\")\n",
    "print(ss)"
   ]
  },
  {
   "cell_type": "code",
   "execution_count": 166,
   "metadata": {},
   "outputs": [
    {
     "name": "stdout",
     "output_type": "stream",
     "text": [
      "good\n"
     ]
    }
   ],
   "source": [
    "print(ss.pop())"
   ]
  },
  {
   "cell_type": "code",
   "execution_count": null,
   "metadata": {},
   "outputs": [],
   "source": []
  }
 ],
 "metadata": {
  "kernelspec": {
   "display_name": ".enpm661",
   "language": "python",
   "name": "python3"
  },
  "language_info": {
   "codemirror_mode": {
    "name": "ipython",
    "version": 3
   },
   "file_extension": ".py",
   "mimetype": "text/x-python",
   "name": "python",
   "nbconvert_exporter": "python",
   "pygments_lexer": "ipython3",
   "version": "3.12.2"
  }
 },
 "nbformat": 4,
 "nbformat_minor": 2
}
