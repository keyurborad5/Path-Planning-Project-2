{
 "cells": [
  {
   "cell_type": "markdown",
   "metadata": {},
   "source": [
    "# ENPM661 Project 2\n",
    "\n",
    "##### Learning Heapq for Priority queue\n"
   ]
  },
  {
   "cell_type": "markdown",
   "metadata": {},
   "source": []
  },
  {
   "cell_type": "code",
   "execution_count": 2,
   "metadata": {},
   "outputs": [
    {
     "name": "stdout",
     "output_type": "stream",
     "text": [
      "The created heap is :  [1, 3, 9, 7, 5]\n"
     ]
    }
   ],
   "source": [
    "# importing \"heapq\" to implement heap queue\n",
    "import heapq\n",
    "\n",
    "# initializing list\n",
    "li = [5, 7, 9, 1, 3]\n",
    "\n",
    "# using heapify to convert list into heap\n",
    "heapq.heapify(li)\n",
    "\n",
    "# printing created heap\n",
    "print (\"The created heap is : \",(list(li)))\n"
   ]
  },
  {
   "cell_type": "code",
   "execution_count": 4,
   "metadata": {},
   "outputs": [
    {
     "name": "stdout",
     "output_type": "stream",
     "text": [
      "The created heap is : [1, 3, 9, 7, 5]\n",
      "The modified heap after push is : [1, 3, 4, 7, 5, 9]\n",
      "The popped and smallest element is : 1\n",
      "The modified heap after pop is : [3, 5, 4, 7, 9]\n"
     ]
    }
   ],
   "source": [
    "# importing \"heapq\" to implement heap queue\n",
    "import heapq\n",
    "\n",
    "# initializing list\n",
    "li = [5, 7, 9, 1, 3]\n",
    "\n",
    "# using heapify to convert list into heap\n",
    "heapq.heapify(li)\n",
    "\n",
    "# printing created heap\n",
    "print(\"The created heap is : \", end=\"\")\n",
    "print(list(li))\n",
    "\n",
    "# using heappush() to push elements into heap\n",
    "# pushes 4\n",
    "heapq.heappush(li, 4)\n",
    "\n",
    "# printing modified heap\n",
    "print(\"The modified heap after push is : \", end=\"\")\n",
    "print(list(li))\n",
    "\n",
    "# using heappop() to pop smallest element\n",
    "print(\"The popped and smallest element is : \", end=\"\")\n",
    "print(heapq.heappop(li))\n",
    "\n",
    "# printing modified heap\n",
    "print(\"The modified heap after pop is : \", end=\"\")\n",
    "print(list(li))\n"
   ]
  },
  {
   "cell_type": "code",
   "execution_count": 8,
   "metadata": {},
   "outputs": [
    {
     "name": "stdout",
     "output_type": "stream",
     "text": [
      "The popped item using heappushpop() is : 2\n",
      "The popped item using heapreplace() is : 3\n",
      "2\n"
     ]
    }
   ],
   "source": [
    "# importing \"heapq\" to implement heap queue\n",
    "import heapq\n",
    "\n",
    "# initializing list 1\n",
    "li1 = [5, 8, 9, 4, 3]\n",
    "\n",
    "# initializing list 2\n",
    "li2 = [5, 7, 9, 4, 3]\n",
    "\n",
    "# using heapify() to convert list into heap\n",
    "heapq.heapify(li1)\n",
    "heapq.heapify(li2)\n",
    "\n",
    "# using heappushpop() to push and pop items simultaneously\n",
    "# First push then pop from updated list\n",
    "# pops 2\n",
    "print(\"The popped item using heappushpop() is : \", end=\"\")\n",
    "print(heapq.heappushpop(li1, 2))\n",
    "\n",
    "# using heapreplace() to push and pop items simultaneously\n",
    "# First pop then push from updated list\n",
    "# pops 3\n",
    "print(\"The popped item using heapreplace() is : \", end=\"\")\n",
    "print(heapq.heapreplace(li2, 2))\n",
    "print(\"The popped item using heappop() is : \", end=\"\")\n",
    "print(heapq.heappop(li2))\n",
    "\n"
   ]
  },
  {
   "cell_type": "code",
   "execution_count": 9,
   "metadata": {},
   "outputs": [
    {
     "name": "stdout",
     "output_type": "stream",
     "text": [
      "The 3 largest numbers in list are : [10, 9, 8]\n",
      "The 3 smallest numbers in list are : [1, 3, 4]\n"
     ]
    }
   ],
   "source": [
    "# Python code to demonstrate working of\n",
    "# nlargest() and nsmallest()\n",
    "\n",
    "# importing \"heapq\" to implement heap queue\n",
    "import heapq\n",
    "\n",
    "# initializing list\n",
    "li1 = [6, 7, 9, 4, 3, 5, 8, 10, 1]\n",
    "\n",
    "# using heapify() to convert list into heap\n",
    "heapq.heapify(li1)\n",
    "\n",
    "# using nlargest to print 3 largest numbers\n",
    "# prints 10, 9 and 8\n",
    "print(\"The 3 largest numbers in list are : \", end=\"\")\n",
    "print(heapq.nlargest(3, li1))\n",
    "\n",
    "# using nsmallest to print 3 smallest numbers\n",
    "# prints 1, 3 and 4\n",
    "print(\"The 3 smallest numbers in list are : \", end=\"\")\n",
    "print(heapq.nsmallest(3, li1))\n"
   ]
  },
  {
   "cell_type": "code",
   "execution_count": 12,
   "metadata": {},
   "outputs": [
    {
     "name": "stdout",
     "output_type": "stream",
     "text": [
      "[(23, 3, 0, (7, 1)), (43, 2, 0, (4, 5)), (34, 1, 0, (2, 3))]\n",
      "[(23, 3, 0, (7, 1)), (43, 2, 0, (4, 5)), (34, 1, 0, (2, 3))]\n",
      "First lowest cost element in heap:  Cost to come: 23 Parent Node index: 3 Current Index: 0 Coordinates (x,y): (7, 1)\n",
      "Second lowest cost element in heap:  Cost to come: 34 Parent Node index: 1 Current Index: 0 Coordinates (x,y): (2, 3)\n",
      "Third lowest cost element in heap:  Cost to come: 43 Parent Node index: 2 Current Index: 0 Coordinates (x,y): (4, 5)\n"
     ]
    }
   ],
   "source": [
    "import heapq as hq\n",
    "\n",
    "# creating tuple with cost to come, index, parent node index=0 and coordinate values (x,y) \n",
    "d1 = (34, 1, 0, (2,3))  \n",
    "d2 = (43, 2, 0, (4,5))\n",
    "d3 = (23, 3, 0, (7,1))\n",
    "\n",
    "#Initialising the list to be used in priority queue\n",
    "Q = []\n",
    "\n",
    "#Push elements to queue\n",
    "hq.heappush(Q, d1)\n",
    "hq.heappush(Q, d2)\n",
    "hq.heappush(Q, d3)\n",
    "print(Q)\n",
    "hq.heapify(Q)\n",
    "print(Q)\n",
    "\n",
    "first = hq.heappop(Q)\n",
    "print(\"First lowest cost element in heap: \", \"Cost to come:\", first[0], \"Parent Node index:\", first[1], \"Current Index:\", first[2], \"Coordinates (x,y):\", first[3])\n",
    "first = hq.heappop(Q)\n",
    "print(\"Second lowest cost element in heap: \", \"Cost to come:\", first[0], \"Parent Node index:\", first[1], \"Current Index:\", first[2], \"Coordinates (x,y):\", first[3])\n",
    "first = hq.heappop(Q)\n",
    "print(\"Third lowest cost element in heap: \", \"Cost to come:\", first[0], \"Parent Node index:\", first[1], \"Current Index:\", first[2], \"Coordinates (x,y):\", first[3])"
   ]
  },
  {
   "cell_type": "code",
   "execution_count": 11,
   "metadata": {},
   "outputs": [
    {
     "name": "stdout",
     "output_type": "stream",
     "text": [
      "[]\n"
     ]
    }
   ],
   "source": [
    "print(Q)"
   ]
  },
  {
   "cell_type": "code",
   "execution_count": 15,
   "metadata": {},
   "outputs": [
    {
     "name": "stdout",
     "output_type": "stream",
     "text": [
      "Collecting matplotlibNote: you may need to restart the kernel to use updated packages.\n",
      "\n",
      "  Using cached matplotlib-3.8.3-cp312-cp312-win_amd64.whl.metadata (5.9 kB)\n",
      "Collecting contourpy>=1.0.1 (from matplotlib)\n",
      "  Using cached contourpy-1.2.0-cp312-cp312-win_amd64.whl.metadata (5.8 kB)\n",
      "Collecting cycler>=0.10 (from matplotlib)\n",
      "  Using cached cycler-0.12.1-py3-none-any.whl.metadata (3.8 kB)\n",
      "Collecting fonttools>=4.22.0 (from matplotlib)\n",
      "  Using cached fonttools-4.49.0-cp312-cp312-win_amd64.whl.metadata (162 kB)\n",
      "Collecting kiwisolver>=1.3.1 (from matplotlib)\n",
      "  Using cached kiwisolver-1.4.5-cp312-cp312-win_amd64.whl.metadata (6.5 kB)\n",
      "Requirement already satisfied: numpy<2,>=1.21 in e:\\university of maryland\\sem 2\\661 path planning\\assisgnments\\.enpm661\\lib\\site-packages (from matplotlib) (1.26.4)\n",
      "Requirement already satisfied: packaging>=20.0 in e:\\university of maryland\\sem 2\\661 path planning\\assisgnments\\.enpm661\\lib\\site-packages (from matplotlib) (23.2)\n",
      "Collecting pillow>=8 (from matplotlib)\n",
      "  Using cached pillow-10.2.0-cp312-cp312-win_amd64.whl.metadata (9.9 kB)\n",
      "Collecting pyparsing>=2.3.1 (from matplotlib)\n",
      "  Downloading pyparsing-3.1.2-py3-none-any.whl.metadata (5.1 kB)\n",
      "Requirement already satisfied: python-dateutil>=2.7 in e:\\university of maryland\\sem 2\\661 path planning\\assisgnments\\.enpm661\\lib\\site-packages (from matplotlib) (2.8.2)\n",
      "Requirement already satisfied: six>=1.5 in e:\\university of maryland\\sem 2\\661 path planning\\assisgnments\\.enpm661\\lib\\site-packages (from python-dateutil>=2.7->matplotlib) (1.16.0)\n",
      "Using cached matplotlib-3.8.3-cp312-cp312-win_amd64.whl (7.6 MB)\n",
      "Using cached contourpy-1.2.0-cp312-cp312-win_amd64.whl (187 kB)\n",
      "Using cached cycler-0.12.1-py3-none-any.whl (8.3 kB)\n",
      "Using cached fonttools-4.49.0-cp312-cp312-win_amd64.whl (2.2 MB)\n",
      "Using cached kiwisolver-1.4.5-cp312-cp312-win_amd64.whl (56 kB)\n",
      "Using cached pillow-10.2.0-cp312-cp312-win_amd64.whl (2.6 MB)\n",
      "Downloading pyparsing-3.1.2-py3-none-any.whl (103 kB)\n",
      "   ---------------------------------------- 0.0/103.2 kB ? eta -:--:--\n",
      "   ---------------------------------------  102.4/103.2 kB 5.8 MB/s eta 0:00:01\n",
      "   ---------------------------------------- 103.2/103.2 kB 1.5 MB/s eta 0:00:00\n",
      "Installing collected packages: pyparsing, pillow, kiwisolver, fonttools, cycler, contourpy, matplotlib\n",
      "Successfully installed contourpy-1.2.0 cycler-0.12.1 fonttools-4.49.0 kiwisolver-1.4.5 matplotlib-3.8.3 pillow-10.2.0 pyparsing-3.1.2\n"
     ]
    }
   ],
   "source": [
    "pip install matplotlib"
   ]
  },
  {
   "cell_type": "code",
   "execution_count": 17,
   "metadata": {},
   "outputs": [
    {
     "data": {
      "image/png": "[encoded data removed]",
      "text/plain": [
       "<Figure size 640x480 with 1 Axes>"
      ]
     },
     "metadata": {},
     "output_type": "display_data"
    }
   ],
   "source": [
    "import numpy as np\n",
    "import matplotlib.pyplot as plt\n",
    "\n",
    "# Define boundary\n",
    "x_min, x_max = -10, 10\n",
    "y_min, y_max = -10, 10\n",
    "\n",
    "# Define circle parameters\n",
    "circle1_center = (0, 0)\n",
    "circle1_radius = 5\n",
    "circle2_center = (2, 2)\n",
    "circle2_radius = 3\n",
    "\n",
    "# Create grid\n",
    "x_values = np.linspace(x_min, x_max, 100)\n",
    "y_values = np.linspace(y_min, y_max, 100)\n",
    "X, Y = np.meshgrid(x_values, y_values)\n",
    "\n",
    "# Create obstacle space\n",
    "obstacle_space = np.zeros_like(X, dtype=bool)\n",
    "\n",
    "# Evaluate obstacle equations (circles)\n",
    "obstacle_space[((X - circle1_center[0])**2 + (Y - circle1_center[1])**2) <= circle1_radius**2] = True\n",
    "obstacle_space[((X - circle2_center[0])**2 + (Y - circle2_center[1])**2) <= circle2_radius**2] = True\n",
    "\n",
    "# Plot obstacle space\n",
    "plt.imshow(obstacle_space, extent=(x_min, x_max, y_min, y_max), origin='lower', cmap='gray')\n",
    "plt.xlabel('X')\n",
    "plt.ylabel('Y')\n",
    "plt.title('2D Obstacle Space')\n",
    "plt.grid(False)\n",
    "plt.show()\n"
   ]
  },
  {
   "cell_type": "code",
   "execution_count": 18,
   "metadata": {},
   "outputs": [
    {
     "data": {
      "image/png": "[encoded data removed]",
      "text/plain": [
       "<Figure size 640x480 with 1 Axes>"
      ]
     },
     "metadata": {},
     "output_type": "display_data"
    }
   ],
   "source": [
    "import numpy as np\n",
    "import matplotlib.pyplot as plt\n",
    "\n",
    "# Define boundary of the space\n",
    "x_min, x_max = -10, 10\n",
    "y_min, y_max = -10, 10\n",
    "\n",
    "# Define linear inequalities defining the rectangular free space\n",
    "def in_free_space(x, y):\n",
    "    return (x >= -5) and (x <= 5) and (y >= -3) and (y <= 3)\n",
    "\n",
    "# Create grid\n",
    "x_values = np.linspace(x_min, x_max, 100)\n",
    "y_values = np.linspace(y_min, y_max, 100)\n",
    "X, Y = np.meshgrid(x_values, y_values)\n",
    "\n",
    "# Evaluate inequalities to determine free space\n",
    "free_space = np.zeros_like(X, dtype=bool)\n",
    "for i in range(X.shape[0]):\n",
    "    for j in range(X.shape[1]):\n",
    "        free_space[i, j] = in_free_space(X[i, j], Y[i, j])\n",
    "\n",
    "# Plot free space\n",
    "plt.imshow(free_space, extent=(x_min, x_max, y_min, y_max), origin='lower', cmap='gray')\n",
    "plt.xlabel('X')\n",
    "plt.ylabel('Y')\n",
    "plt.title('Semi-Algebraic Model of Free Space')\n",
    "plt.grid(True)\n",
    "plt.show()\n"
   ]
  },
  {
   "cell_type": "code",
   "execution_count": 20,
   "metadata": {},
   "outputs": [
    {
     "name": "stdout",
     "output_type": "stream",
     "text": [
      "Collecting opencv-python\n",
      "  Using cached opencv_python-4.9.0.80-cp37-abi3-win_amd64.whl.metadata (20 kB)\n",
      "Requirement already satisfied: numpy>=1.21.2 in e:\\university of maryland\\sem 2\\661 path planning\\assisgnments\\.enpm661\\lib\\site-packages (from opencv-python) (1.26.4)\n",
      "Using cached opencv_python-4.9.0.80-cp37-abi3-win_amd64.whl (38.6 MB)\n",
      "Installing collected packages: opencv-python\n",
      "Successfully installed opencv-python-4.9.0.80\n",
      "Note: you may need to restart the kernel to use updated packages.\n"
     ]
    }
   ],
   "source": [
    "pip install opencv-python"
   ]
  },
  {
   "cell_type": "markdown",
   "metadata": {},
   "source": [
    "### Defining the canvas"
   ]
  },
  {
   "cell_type": "code",
   "execution_count": 35,
   "metadata": {},
   "outputs": [
    {
     "name": "stdout",
     "output_type": "stream",
     "text": [
      "Canvas shape: (500, 1200, 3)\n"
     ]
    }
   ],
   "source": [
    "import numpy as np\n",
    "import cv2\n",
    "\n",
    "# Define canvas size\n",
    "canvas_height = 500\n",
    "canvas_width = 1200\n",
    "\n",
    "# Create canvas\n",
    "canvas = np.zeros((canvas_height, canvas_width, 3), dtype=np.uint8)\n",
    "\n",
    "# Display canvas shape\n",
    "print(\"Canvas shape:\", canvas.shape)\n",
    "cv2.imshow('window',canvas)\n",
    "cv2.waitKey(0)\n",
    "cv2.destroyAllWindows()"
   ]
  },
  {
   "cell_type": "code",
   "execution_count": 36,
   "metadata": {},
   "outputs": [],
   "source": [
    "\n",
    "for i in range(400):\n",
    "    canvas[i][100:175][:]=[255,255,255]"
   ]
  },
  {
   "cell_type": "code",
   "execution_count": 37,
   "metadata": {},
   "outputs": [],
   "source": [
    "for i in range(100,500):\n",
    "    canvas[i][275:350][:]=[255,255,255]"
   ]
  },
  {
   "cell_type": "code",
   "execution_count": 38,
   "metadata": {},
   "outputs": [
    {
     "data": {
      "text/plain": [
       "array([[[0, 0, 0],\n",
       "        [0, 0, 0],\n",
       "        [0, 0, 0],\n",
       "        ...,\n",
       "        [0, 0, 0],\n",
       "        [0, 0, 0],\n",
       "        [0, 0, 0]],\n",
       "\n",
       "       [[0, 0, 0],\n",
       "        [0, 0, 0],\n",
       "        [0, 0, 0],\n",
       "        ...,\n",
       "        [0, 0, 0],\n",
       "        [0, 0, 0],\n",
       "        [0, 0, 0]],\n",
       "\n",
       "       [[0, 0, 0],\n",
       "        [0, 0, 0],\n",
       "        [0, 0, 0],\n",
       "        ...,\n",
       "        [0, 0, 0],\n",
       "        [0, 0, 0],\n",
       "        [0, 0, 0]],\n",
       "\n",
       "       ...,\n",
       "\n",
       "       [[0, 0, 0],\n",
       "        [0, 0, 0],\n",
       "        [0, 0, 0],\n",
       "        ...,\n",
       "        [0, 0, 0],\n",
       "        [0, 0, 0],\n",
       "        [0, 0, 0]],\n",
       "\n",
       "       [[0, 0, 0],\n",
       "        [0, 0, 0],\n",
       "        [0, 0, 0],\n",
       "        ...,\n",
       "        [0, 0, 0],\n",
       "        [0, 0, 0],\n",
       "        [0, 0, 0]],\n",
       "\n",
       "       [[0, 0, 0],\n",
       "        [0, 0, 0],\n",
       "        [0, 0, 0],\n",
       "        ...,\n",
       "        [0, 0, 0],\n",
       "        [0, 0, 0],\n",
       "        [0, 0, 0]]], dtype=uint8)"
      ]
     },
     "execution_count": 38,
     "metadata": {},
     "output_type": "execute_result"
    }
   ],
   "source": [
    "# Define side length of the hexagon\n",
    "side_length = 150\n",
    "\n",
    "\n",
    "# Calculate center of the canvas\n",
    "center_x = 650\n",
    "center_y = 250\n",
    "\n",
    "# Calculate coordinates of the vertices\n",
    "angles = np.linspace(np.pi/6,  2*np.pi+np.pi/6, 7)[:-1]  # Angles for each vertex\n",
    "x = np.int32(center_x + side_length * np.cos(angles))  # X coordinates\n",
    "y = np.int32(center_y + side_length * np.sin(angles))  # Y coordinates\n",
    "\n",
    "# Reshape the coordinates for OpenCV's fillPoly function\n",
    "pts = np.array([x, y], np.int32).T.reshape((-1, 1, 2))\n",
    "\n",
    "# Draw the hexagon on the canvas\n",
    "cv2.fillPoly(canvas, [pts], color=(255, 255, 255))  # Fill the hexag"
   ]
  },
  {
   "cell_type": "code",
   "execution_count": 39,
   "metadata": {},
   "outputs": [],
   "source": [
    "for i in range(50,125):\n",
    "    canvas[i][900:1100][:]=[255,255,255]\n",
    "for i in range(125,375):\n",
    "    canvas[i][1020:1100][:]=[255,255,255]\n",
    "for i in range(375,450):\n",
    "    canvas[i][900:1100][:]=[255,255,255]"
   ]
  },
  {
   "cell_type": "code",
   "execution_count": 40,
   "metadata": {},
   "outputs": [
    {
     "name": "stdout",
     "output_type": "stream",
     "text": [
      "Canvas shape: (500, 1200, 3)\n"
     ]
    }
   ],
   "source": [
    "print(\"Canvas shape:\", canvas.shape)\n",
    "cv2.imshow('window',canvas)\n",
    "cv2.waitKey(0)\n",
    "cv2.destroyAllWindows()"
   ]
  },
  {
   "cell_type": "code",
   "execution_count": 12,
   "metadata": {},
   "outputs": [
    {
     "name": "stdout",
     "output_type": "stream",
     "text": [
      "Canvas shape: (500, 1200, 3)\n"
     ]
    }
   ],
   "source": [
    "# Consolidating the above steps intp one as building the canvas with ostacles\n",
    "import numpy as np\n",
    "import cv2\n",
    "\n",
    "# Define canvas size\n",
    "canvas_height = 500\n",
    "canvas_width = 1200\n",
    "\n",
    "# Create canvas\n",
    "canvas = np.zeros((canvas_height, canvas_width, 3), dtype=np.uint8)\n",
    "\n",
    "\n",
    "# Define side length of the hexagon\n",
    "side_length = 155\n",
    "\n",
    "\n",
    "# Calculate center of the canvas\n",
    "center_x = 650\n",
    "center_y = 250\n",
    "\n",
    "# Calculate coordinates of the vertices\n",
    "angles = np.linspace(np.pi/6,  2*np.pi+np.pi/6, 7)[:-1]  # Angles for each vertex\n",
    "x = np.int32(center_x + side_length * np.cos(angles))  # X coordinates\n",
    "y = np.int32(center_y + side_length * np.sin(angles))  # Y coordinates\n",
    "\n",
    "# Reshape the coordinates for OpenCV's fillPoly function\n",
    "pts = np.array([x, y], np.int32).T.reshape((-1, 1, 2))\n",
    "\n",
    "# Draw the hexagon on the canvas\n",
    "cv2.fillPoly(canvas, [pts], color=(255, 255, 255))  # Fill the hexag\n",
    "\n",
    "#Creating different rectangular obstacles\n",
    "for i in range(406):\n",
    "    canvas[i][95:181][:]=[255,255,255]\n",
    "for i in range(95,500):\n",
    "    canvas[i][270:356][:]=[255,255,255]\n",
    "for i in range(45,131):\n",
    "    canvas[i][895:1106][:]=[255,255,255]\n",
    "for i in range(120,381):\n",
    "    canvas[i][1015:1106][:]=[255,255,255]\n",
    "for i in range(370,456):\n",
    "    canvas[i][895:1106][:]=[255,255,255]\n",
    "\n",
    "#Creating different walls\n",
    "for i in range(0,6):\n",
    "    canvas[i][0:1201][:]=[255,255,255]\n",
    "for i in range(496,500):\n",
    "    canvas[i][0:1201][:]=[255,255,255]\n",
    "\n",
    "for i in range(0,500):\n",
    "    canvas[i][0:6][:]=[255,255,255]\n",
    "    canvas[i][1196:1201][:]=[255,255,255]\n",
    "\n",
    "\n",
    "print(\"Canvas shape:\", canvas.shape)\n",
    "cv2.imshow('window',canvas)\n",
    "cv2.waitKey(0)\n",
    "cv2.destroyAllWindows()\n"
   ]
  },
  {
   "cell_type": "code",
   "execution_count": 25,
   "metadata": {},
   "outputs": [],
   "source": [
    "#using Lists\n",
    "# Obstacle_Space=[]\n",
    "# for i in range(canvas.shape[1]):\n",
    "#     for j in range(canvas.shape[0]):\n",
    "#         if np.array_equal(canvas[j][i], [255, 255, 255]):\n",
    "#             Obstacle_Space.append([i,-j+500])\n",
    "#using Sets\n",
    "Obstacle_Space=set()\n",
    "for i in range(canvas.shape[1]):\n",
    "    for j in range(canvas.shape[0]):\n",
    "        if np.array_equal(canvas[j][i], [255, 255, 255]):\n",
    "            Obstacle_Space.add((i,-j+500))"
   ]
  },
  {
   "cell_type": "code",
   "execution_count": 26,
   "metadata": {},
   "outputs": [
    {
     "name": "stdout",
     "output_type": "stream",
     "text": [
      "<class 'set'>\n"
     ]
    }
   ],
   "source": [
    "print(type(Obstacle_Space))"
   ]
  },
  {
   "cell_type": "code",
   "execution_count": 29,
   "metadata": {},
   "outputs": [
    {
     "name": "stdout",
     "output_type": "stream",
     "text": [
      "yaay\n"
     ]
    }
   ],
   "source": [
    "#using Sets\n",
    "if {(1000,375)}.issubset(Obstacle_Space)==False:\n",
    "    print(\"yaay\")\n",
    "else: print(\"NAAYY\")"
   ]
  },
  {
   "cell_type": "code",
   "execution_count": 9,
   "metadata": {},
   "outputs": [
    {
     "name": "stdout",
     "output_type": "stream",
     "text": [
      "next\n"
     ]
    }
   ],
   "source": [
    "\n",
    "#using Lists\n",
    "if [1020,375] not in Obstacle_Space:\n",
    "    print('y')\n",
    "else:\n",
    "    print('next')"
   ]
  },
  {
   "cell_type": "code",
   "execution_count": 12,
   "metadata": {},
   "outputs": [
    {
     "name": "stdout",
     "output_type": "stream",
     "text": [
      "Initial coordinates: 110.0 110.0\n",
      "Final coordinates: 110.0 0.0\n"
     ]
    }
   ],
   "source": [
    "def get_coordinates(prompt):\n",
    "    while True:\n",
    "        try:\n",
    "            x = float(input(prompt + \" X coordinate: \"))\n",
    "            y = float(input(prompt + \" Y coordinate: \"))\n",
    "            return x, y\n",
    "        except ValueError:\n",
    "            print(\"Invalid input. Please enter numeric values.\")\n",
    "\n",
    "# Get initial coordinates\n",
    "initial_x, initial_y = get_coordinates(\"Enter initial\")\n",
    "print(\"Initial coordinates:\", initial_x, initial_y)\n",
    "\n",
    "# Get final coordinates\n",
    "final_x, final_y = get_coordinates(\"Enter final\")\n",
    "print(\"Final coordinates:\", final_x, final_y)\n"
   ]
  },
  {
   "cell_type": "code",
   "execution_count": 31,
   "metadata": {},
   "outputs": [
    {
     "name": "stdout",
     "output_type": "stream",
     "text": [
      " Enter initial x values:\n",
      " Enter initial y values:\n",
      " enter valid coordinare \n",
      "\n",
      " Enter initial x values:\n",
      " Enter initial y values:\n",
      "120 50\n",
      " Enter final x values:\n",
      " Enter final y values:\n",
      "40 40\n"
     ]
    }
   ],
   "source": [
    "\n",
    "while True:\n",
    "    init_x=int(input(print(\" Enter initial x values:\")))\n",
    "    init_y=int(input(print(\" Enter initial y values:\")))\n",
    "    if {(init_x,init_y)}.issubset(Obstacle_Space)==False:\n",
    "        break\n",
    "    else: \n",
    "        print(\" enter valid coordinare \\n\")\n",
    "print(init_x,init_y)\n",
    "\n",
    "while True:\n",
    "    final_x=int(input(print(\" Enter final x values:\")))\n",
    "    final_y=int(input(print(\" Enter final y values:\")))\n",
    "    if {(final_x,final_y)}.issubset(Obstacle_Space)==False:\n",
    "        break\n",
    "    else: \n",
    "        print(\" enter valid coordinare \\n\")\n",
    "\n",
    "print(final_x,final_y)"
   ]
  },
  {
   "cell_type": "markdown",
   "metadata": {},
   "source": [
    "##### Defining Actions as a functions"
   ]
  },
  {
   "cell_type": "code",
   "execution_count": 42,
   "metadata": {},
   "outputs": [
    {
     "name": "stdout",
     "output_type": "stream",
     "text": [
      "---------------\n",
      "(5, 6) 1\n",
      "---------------\n",
      "(6, 5) 1\n",
      "---------------\n",
      "(5, 4) 1\n",
      "---------------\n",
      "(4, 5) 1\n",
      "---------------\n",
      "(4, 6) 1.4\n",
      "---------------\n",
      "(4, 4) 1.4\n",
      "---------------\n",
      "(6, 4) 1.4\n",
      "---------------\n",
      "(6, 6) 1.4\n"
     ]
    }
   ],
   "source": [
    "# creating tuple with cost to come, node index, parent node index=0 and coordinate values (x,y) \n",
    "# creating tuple with cost to come, node index, parent node index=0 and coordinate values (x,y) \n",
    "d1 = (34, 1, 0, (5,5))   \n",
    "def move_up(node):\n",
    "    c2c=1\n",
    "    return node[3][0],(node[3][1]+1),1\n",
    "def move_up_right(node):\n",
    "    c2c=1.4\n",
    "    return (node[3][0]+1),(node[3][1]+1),1.4\n",
    "def move_right(node):\n",
    "    c2c=1\n",
    "    return (node[3][0]+1),(node[3][1]),1\n",
    "def move_down_right(node):\n",
    "    c2c=1.4\n",
    "    return (node[3][0]+1),(node[3][1]-1),1.4\n",
    "def move_down(node):\n",
    "    c2c=1\n",
    "    return (node[3][0]),(node[3][1]-1),1\n",
    "def move_down_left(node):\n",
    "    c2c=1.4\n",
    "    return (node[3][0]-1),(node[3][1]-1),1.4\n",
    "def move_left(node):\n",
    "    c2c=1\n",
    "    return (node[3][0]-1),(node[3][1]),1\n",
    "def move_up_left(node):\n",
    "    c2c=1.4\n",
    "    return (node[3][0]-1),(node[3][1]+1),1.4\n",
    "\n",
    "ctc=0\n",
    "listt=[move_up,move_right,move_down,move_left,move_up_left,move_down_left,move_down_right,move_up_right]\n",
    "for action in listt:\n",
    "    print(\"---------------\")\n",
    "    d_1=action(d1)\n",
    "    print(d_1[:2],d_1[2])\n",
    "\n",
    "\n"
   ]
  },
  {
   "cell_type": "code",
   "execution_count": 21,
   "metadata": {},
   "outputs": [],
   "source": [
    "init_x=20\n",
    "init_y=40\n",
    "final_x=1190\n",
    "final_y=450"
   ]
  },
  {
   "cell_type": "markdown",
   "metadata": {},
   "source": [
    "##### Consolidated Program"
   ]
  },
  {
   "cell_type": "code",
   "execution_count": 22,
   "metadata": {},
   "outputs": [
    {
     "name": "stdout",
     "output_type": "stream",
     "text": [
      "(1471.9999999999973, 354441, 354158, (1190, 450))\n"
     ]
    }
   ],
   "source": [
    "import heapq as hq\n",
    "def move_up(node):\n",
    "    return node[3][0],(node[3][1]+1),1\n",
    "def move_up_right(node):\n",
    "    return (node[3][0]+1),(node[3][1]+1),1.4\n",
    "def move_right(node):\n",
    "    return (node[3][0]+1),(node[3][1]),1\n",
    "def move_down_right(node):\n",
    "    return (node[3][0]+1),(node[3][1]-1),1.4\n",
    "def move_down(node):\n",
    "    return (node[3][0]),(node[3][1]-1),1\n",
    "def move_down_left(node):\n",
    "    return (node[3][0]-1),(node[3][1]-1),1.4\n",
    "def move_left(node):\n",
    "    return (node[3][0]-1),(node[3][1]),1\n",
    "def move_up_left(node):\n",
    "    return (node[3][0]-1),(node[3][1]+1),1.4\n",
    "\n",
    "listt=[move_up,move_right,move_down,move_left,move_up_left,move_down_left,move_down_right,move_up_right]\n",
    "\n",
    "# Creating open and closed lists\n",
    "\n",
    "open_nodes=[]\n",
    "closed_nodes=[]\n",
    "visited_nodes={}\n",
    "named_node={}\n",
    "hq.heapify(open_nodes)\n",
    "hq.heapify(closed_nodes)\n",
    "closed_set=set()\n",
    "closed_set1=set()\n",
    "\n",
    "c2c=0\n",
    "node_index=1\n",
    "parent_node_index=0\n",
    "cost_to_come=0\n",
    "start_node=(cost_to_come,node_index,parent_node_index,(init_x,init_y))\n",
    "hq.heappush(open_nodes,start_node)\n",
    "\n",
    "#Flag for goal node found\n",
    "found_goal=False\n",
    "def visited_node(node):\n",
    "    visited_nodes.update({node[1]:node[2]})\n",
    "    named_node.update({node[1]:node[3]})\n",
    "\n",
    "while (open_nodes and found_goal!=True):\n",
    "    ######################\n",
    "    #Checking termination of while loop\n",
    "    # print(hq.heappop(open_nodes))\n",
    "    #Checking termination of while loop\n",
    "    # i+=1\n",
    "    # print(i)\n",
    "    # if i==10:\n",
    "    #     found_goal=True\n",
    "    ######################\n",
    "    # Fetching the node with lowest c2c from openlist\n",
    "    current_node=hq.heappop(open_nodes)\n",
    "    # Pushing the node into closed list\n",
    "    hq.heappush(closed_nodes,current_node)\n",
    "    visited_node(current_node)\n",
    "    closed_set.add(current_node[3])\n",
    "    closed_set1.add(current_node)\n",
    "    \n",
    "\n",
    "\n",
    "    # Verifying the fetched node is goal node or not\n",
    "    if current_node[3]==(final_x,final_y):\n",
    "        print(current_node)\n",
    "        found_goal=True\n",
    "        ##Backtracking after exiting this while loop\n",
    "    # If not following code is executed\n",
    "    else:\n",
    "        \n",
    "        parent_node_index=current_node[2]\n",
    "        cost_to_come=current_node[0]\n",
    "        for action in listt:\n",
    "            action_output=action(current_node)\n",
    "            if action_output[0]<=1194 and action_output[0]>=5 and action_output[1]<=494 and action_output[1]>=5:\n",
    "\n",
    "                new_node=action_output[:2]\n",
    "                action_c2c=action_output[2]\n",
    "                if ({new_node}.issubset(closed_set)==False):\n",
    "                \n",
    "                \n",
    "                    if {new_node}.issubset(Obstacle_Space)==False:\n",
    "                            open_node_flag=False\n",
    "                            for i in range(len(open_nodes)):\n",
    "                                    if open_nodes[i][3]==new_node:\n",
    "                                        open_node_flag=True\n",
    "                                        if open_nodes[i][0]>(cost_to_come+action_c2c):\n",
    "                                            open_nodes[i]=(cost_to_come+action_c2c,open_nodes[i][1],current_node[1],open_nodes[i][3])\n",
    "                                            break\n",
    "                                        else:\n",
    "                                            break\n",
    "                            \n",
    "                            if open_node_flag==False:\n",
    "                                node_index+=1\n",
    "                                hq.heappush(open_nodes,(cost_to_come+action_c2c,node_index,current_node[1],new_node))\n",
    "                            else:#FOr Open_node_falg \n",
    "                                pass\n",
    "                    else:\n",
    "                        continue    \n",
    "                else:#For closed_node_flag condition\n",
    "                    continue        \n",
    "\n",
    "\n",
    "                    \n",
    "        \n",
    "   \n",
    "\n",
    "# if found_goal==True:\n",
    "    #Backtracking"
   ]
  },
  {
   "cell_type": "markdown",
   "metadata": {},
   "source": [
    "##### Visualatizing the node exploration and Backtracking (Consolidated)"
   ]
  },
  {
   "cell_type": "code",
   "execution_count": 23,
   "metadata": {},
   "outputs": [
    {
     "name": "stdout",
     "output_type": "stream",
     "text": [
      "354158\n"
     ]
    }
   ],
   "source": [
    "#Visualising the exploration of node\n",
    "\n",
    "out = cv2.VideoWriter('keyur_borad_project2.avi',cv2.VideoWriter_fourcc('M','J','P','G'), 10, (1200,500))\n",
    "\n",
    "canvas_1=canvas\n",
    "count=0\n",
    "while closed_nodes:\n",
    "    plot=hq.heappop(closed_nodes)\n",
    "    \n",
    "    cv2.circle(canvas_1, (init_x,500-init_y), 4, [0,0,252], -1)\n",
    "    cv2.circle(canvas_1, (final_x,500-final_y), 4, [0,0,250], -1)\n",
    "    cv2.circle(canvas_1, (plot[3][0],500-plot[3][1]), 1, [250,0,0], -1)\n",
    "    \n",
    "    if count%100==0:\n",
    "        out.write(canvas_1)\n",
    "        cv2.imshow('window',canvas_1)\n",
    "        cv2.waitKey(1)\n",
    "    count+=1\n",
    "\n",
    "# Visualising Backtracking \n",
    "parent= current_node[2]\n",
    "print(parent)\n",
    "backtrack=[]\n",
    "while parent!=0:\n",
    "    backtrack.append(named_node[parent])\n",
    "    parent=visited_nodes[parent]\n",
    "backtrack.reverse()\n",
    "for coord in (backtrack):\n",
    "    cv2.circle(canvas_1, (coord[0],500-coord[1]), 1, [0,250,0], -1)\n",
    "    out.write(canvas_1)\n",
    "    cv2.imshow('window',canvas_1)\n",
    "    cv2.waitKey(1)\n",
    "cv2.waitKey(0)\n",
    "out.release()\n",
    "cv2.destroyAllWindows()"
   ]
  },
  {
   "cell_type": "code",
   "execution_count": 93,
   "metadata": {},
   "outputs": [
    {
     "name": "stdout",
     "output_type": "stream",
     "text": [
      "None\n"
     ]
    }
   ],
   "source": [
    "print(backtrack.reverse())"
   ]
  },
  {
   "cell_type": "code",
   "execution_count": 94,
   "metadata": {},
   "outputs": [
    {
     "name": "stdout",
     "output_type": "stream",
     "text": [
      "[(1190, 450), (1189, 450), (1188, 450), (1187, 450), (1186, 450), (1185, 450), (1184, 450), (1183, 450), (1182, 450), (1181, 450), (1180, 450), (1179, 450), (1178, 450), (1177, 450), (1176, 450), (1175, 450), (1174, 450), (1173, 450), (1172, 450), (1171, 450), (1170, 450), (1169, 450), (1168, 450), (1167, 450), (1166, 450), (1165, 450), (1164, 450), (1163, 450), (1162, 450), (1161, 450), (1160, 450), (1159, 450), (1158, 450), (1157, 450), (1156, 450), (1155, 450), (1154, 450), (1153, 450), (1152, 450), (1151, 450), (1150, 450), (1149, 450), (1148, 450), (1147, 450), (1146, 450), (1145, 450), (1144, 450), (1143, 450), (1142, 450), (1141, 450), (1140, 450), (1139, 450), (1138, 450), (1137, 450), (1136, 450), (1135, 450), (1134, 450), (1133, 450), (1132, 451), (1131, 452), (1130, 453), (1129, 454), (1128, 455), (1127, 456), (1126, 456), (1125, 456), (1124, 456), (1123, 456), (1122, 456), (1121, 456), (1120, 456), (1119, 456), (1118, 456), (1117, 456), (1116, 456), (1115, 456), (1114, 456), (1113, 456), (1112, 456), (1111, 456), (1110, 456), (1109, 456), (1108, 456), (1107, 456), (1106, 456), (1105, 456), (1104, 456), (1103, 456), (1102, 456), (1101, 456), (1100, 456), (1099, 456), (1098, 456), (1097, 456), (1096, 456), (1095, 456), (1094, 456), (1093, 456), (1092, 456), (1091, 456), (1090, 456), (1089, 456), (1088, 456), (1087, 456), (1086, 456), (1085, 456), (1084, 456), (1083, 456), (1082, 456), (1081, 456), (1080, 456), (1079, 456), (1078, 456), (1077, 456), (1076, 456), (1075, 456), (1074, 456), (1073, 456), (1072, 456), (1071, 456), (1070, 456), (1069, 456), (1068, 456), (1067, 456), (1066, 456), (1065, 456), (1064, 456), (1063, 456), (1062, 456), (1061, 456), (1060, 456), (1059, 456), (1058, 456), (1057, 456), (1056, 456), (1055, 456), (1054, 456), (1053, 456), (1052, 456), (1051, 456), (1050, 456), (1049, 456), (1048, 456), (1047, 456), (1046, 456), (1045, 456), (1044, 456), (1043, 456), (1042, 456), (1041, 456), (1040, 456), (1039, 456), (1038, 456), (1037, 456), (1036, 456), (1035, 456), (1034, 456), (1033, 456), (1032, 456), (1031, 456), (1030, 456), (1029, 456), (1028, 456), (1027, 456), (1026, 456), (1025, 456), (1024, 456), (1023, 456), (1022, 456), (1021, 456), (1020, 456), (1019, 456), (1018, 456), (1017, 456), (1016, 456), (1015, 456), (1014, 456), (1013, 456), (1012, 456), (1011, 456), (1010, 456), (1009, 456), (1008, 456), (1007, 456), (1006, 456), (1005, 456), (1004, 456), (1003, 456), (1002, 456), (1001, 456), (1000, 456), (999, 456), (998, 456), (997, 456), (996, 456), (995, 456), (994, 456), (993, 456), (992, 456), (991, 456), (990, 456), (989, 456), (988, 456), (987, 456), (986, 456), (985, 456), (984, 456), (983, 456), (982, 456), (981, 456), (980, 456), (979, 456), (978, 456), (977, 456), (976, 456), (975, 456), (974, 456), (973, 456), (972, 456), (971, 456), (970, 456), (969, 456), (968, 456), (967, 456), (966, 456), (965, 456), (964, 456), (963, 456), (962, 456), (961, 456), (960, 456), (959, 456), (958, 456), (957, 456), (956, 456), (955, 456), (954, 456), (953, 456), (952, 456), (951, 456), (950, 456), (949, 456), (948, 456), (947, 456), (946, 456), (945, 456), (944, 456), (943, 456), (942, 456), (941, 456), (940, 456), (939, 456), (938, 456), (937, 456), (936, 456), (935, 456), (934, 456), (933, 456), (932, 456), (931, 456), (930, 456), (929, 456), (928, 456), (927, 456), (926, 456), (925, 456), (924, 456), (923, 456), (922, 456), (921, 456), (920, 456), (919, 456), (918, 456), (917, 456), (916, 456), (915, 456), (914, 456), (913, 456), (912, 456), (911, 456), (910, 456), (909, 456), (908, 456), (907, 456), (906, 456), (905, 456), (904, 456), (903, 456), (902, 456), (901, 456), (900, 456), (899, 456), (898, 456), (897, 456), (896, 456), (895, 456), (894, 456), (893, 456), (892, 456), (891, 456), (890, 456), (889, 456), (888, 456), (887, 456), (886, 456), (885, 456), (884, 456), (883, 456), (882, 456), (881, 456), (880, 456), (879, 456), (878, 456), (877, 456), (876, 456), (875, 456), (874, 456), (873, 456), (872, 456), (871, 456), (870, 456), (869, 456), (868, 456), (867, 456), (866, 456), (865, 456), (864, 456), (863, 456), (862, 456), (861, 456), (860, 456), (859, 456), (858, 456), (857, 456), (856, 456), (855, 456), (854, 456), (853, 456), (852, 456), (851, 456), (850, 456), (849, 456), (848, 456), (847, 456), (846, 456), (845, 456), (844, 456), (843, 456), (842, 456), (841, 456), (840, 456), (839, 456), (838, 456), (837, 456), (836, 456), (835, 456), (834, 456), (833, 456), (832, 456), (831, 456), (830, 456), (829, 456), (828, 456), (827, 456), (826, 456), (825, 456), (824, 456), (823, 456), (822, 456), (821, 456), (820, 456), (819, 456), (818, 456), (817, 456), (816, 456), (815, 456), (814, 456), (813, 456), (812, 456), (811, 456), (810, 456), (809, 456), (808, 456), (807, 456), (806, 456), (805, 456), (804, 456), (803, 456), (802, 456), (801, 456), (800, 456), (799, 456), (798, 456), (797, 456), (796, 456), (795, 456), (794, 456), (793, 456), (792, 456), (791, 456), (790, 456), (789, 456), (788, 456), (787, 456), (786, 456), (785, 456), (784, 456), (783, 456), (782, 456), (781, 456), (780, 456), (779, 456), (778, 456), (777, 456), (776, 456), (775, 456), (774, 456), (773, 456), (772, 456), (771, 456), (770, 456), (769, 456), (768, 456), (767, 456), (766, 456), (765, 456), (764, 456), (763, 456), (762, 456), (761, 456), (760, 456), (759, 456), (758, 456), (757, 456), (756, 456), (755, 456), (754, 456), (753, 456), (752, 456), (751, 456), (750, 456), (749, 456), (748, 456), (747, 456), (746, 456), (745, 456), (744, 456), (743, 456), (742, 456), (741, 456), (740, 456), (739, 456), (738, 456), (737, 456), (736, 456), (735, 456), (734, 456), (733, 456), (732, 456), (731, 456), (730, 456), (729, 456), (728, 456), (727, 456), (726, 456), (725, 456), (724, 456), (723, 456), (722, 456), (721, 456), (720, 456), (719, 456), (718, 456), (717, 456), (716, 456), (715, 456), (714, 456), (713, 456), (712, 456), (711, 456), (710, 456), (709, 456), (708, 456), (707, 456), (706, 456), (705, 456), (704, 456), (703, 456), (702, 456), (701, 456), (700, 456), (699, 456), (698, 456), (697, 456), (696, 456), (695, 456), (694, 456), (693, 456), (692, 456), (691, 456), (690, 456), (689, 456), (688, 456), (687, 456), (686, 456), (685, 456), (684, 456), (683, 456), (682, 456), (681, 456), (680, 456), (679, 456), (678, 456), (677, 456), (676, 456), (675, 456), (674, 456), (673, 456), (672, 456), (671, 456), (670, 456), (669, 456), (668, 456), (667, 456), (666, 456), (665, 456), (664, 456), (663, 456), (662, 456), (661, 456), (660, 456), (659, 456), (658, 456), (657, 456), (656, 456), (655, 456), (654, 456), (653, 456), (652, 456), (651, 456), (650, 456), (649, 456), (648, 456), (647, 456), (646, 456), (645, 456), (644, 456), (643, 456), (642, 456), (641, 456), (640, 456), (639, 456), (638, 456), (637, 456), (636, 456), (635, 456), (634, 456), (633, 456), (632, 456), (631, 456), (630, 456), (629, 456), (628, 456), (627, 456), (626, 456), (625, 456), (624, 456), (623, 456), (622, 456), (621, 456), (620, 456), (619, 456), (618, 456), (617, 456), (616, 456), (615, 456), (614, 456), (613, 456), (612, 456), (611, 456), (610, 456), (609, 456), (608, 456), (607, 456), (606, 456), (605, 456), (604, 456), (603, 456), (602, 456), (601, 456), (600, 456), (599, 456), (598, 456), (597, 456), (596, 456), (595, 456), (594, 456), (593, 456), (592, 456), (591, 456), (590, 456), (589, 456), (588, 456), (587, 456), (586, 456), (585, 456), (584, 456), (583, 456), (582, 456), (581, 456), (580, 456), (579, 456), (578, 456), (577, 456), (576, 456), (575, 456), (574, 456), (573, 456), (572, 456), (571, 456), (570, 456), (569, 456), (568, 456), (567, 456), (566, 456), (565, 456), (564, 456), (563, 456), (562, 456), (561, 456), (560, 456), (559, 456), (558, 456), (557, 456), (556, 456), (555, 456), (554, 456), (553, 456), (552, 456), (551, 456), (550, 456), (549, 456), (548, 456), (547, 456), (546, 456), (545, 456), (544, 456), (543, 456), (542, 456), (541, 456), (540, 456), (539, 456), (538, 456), (537, 456), (536, 456), (535, 456), (534, 456), (533, 456), (532, 456), (531, 456), (530, 456), (529, 456), (528, 456), (527, 456), (526, 456), (525, 456), (524, 456), (523, 456), (522, 456), (521, 456), (520, 456), (519, 456), (518, 456), (517, 456), (516, 456), (515, 456), (514, 456), (513, 456), (512, 456), (511, 456), (510, 456), (509, 456), (508, 456), (507, 456), (506, 456), (505, 456), (504, 456), (503, 456), (502, 456), (501, 456), (500, 456), (499, 456), (498, 456), (497, 456), (496, 456), (495, 456), (494, 456), (493, 456), (492, 456), (491, 456), (490, 456), (489, 456), (488, 456), (487, 456), (486, 456), (485, 456), (484, 456), (483, 456), (482, 456), (481, 456), (480, 456), (479, 456), (478, 456), (477, 456), (476, 456), (475, 456), (474, 456), (473, 456), (472, 456), (471, 456), (470, 456), (469, 456), (468, 456), (467, 456), (466, 456), (465, 456), (464, 456), (463, 456), (462, 456), (461, 456), (460, 456), (459, 456), (458, 456), (457, 456), (456, 456), (455, 456), (454, 456), (453, 456), (452, 456), (451, 456), (450, 456), (449, 456), (448, 456), (447, 456), (446, 456), (445, 456), (444, 456), (443, 456), (442, 456), (441, 456), (440, 456), (439, 456), (438, 456), (437, 456), (436, 456), (435, 456), (434, 456), (433, 456), (432, 456), (431, 456), (430, 456), (429, 456), (428, 456), (427, 456), (426, 456), (425, 456), (424, 456), (423, 456), (422, 456), (421, 456), (420, 456), (419, 456), (418, 456), (417, 456), (416, 456), (415, 456), (414, 456), (413, 456), (412, 456), (411, 456), (410, 456), (409, 456), (408, 456), (407, 456), (406, 456), (405, 456), (404, 456), (403, 456), (402, 456), (401, 456), (400, 456), (399, 456), (398, 456), (397, 456), (396, 456), (395, 456), (394, 456), (393, 456), (392, 456), (391, 456), (390, 456), (389, 456), (388, 456), (387, 456), (386, 456), (385, 456), (384, 456), (383, 456), (382, 456), (381, 456), (380, 456), (379, 456), (378, 456), (377, 456), (376, 456), (375, 456), (374, 456), (373, 456), (372, 456), (371, 456), (370, 456), (369, 456), (368, 456), (367, 456), (366, 456), (365, 456), (364, 456), (363, 456), (362, 456), (361, 456), (360, 456), (359, 456), (358, 456), (357, 456), (356, 456), (355, 456), (354, 456), (353, 456), (352, 456), (351, 456), (350, 456), (349, 456), (348, 456), (347, 456), (346, 456), (345, 456), (344, 456), (343, 456), (342, 456), (341, 456), (340, 456), (339, 456), (338, 456), (337, 456), (336, 456), (335, 456), (334, 456), (333, 456), (332, 456), (331, 456), (330, 456), (329, 456), (328, 456), (327, 456), (326, 456), (325, 456), (324, 456), (323, 456), (322, 456), (321, 456), (320, 456), (319, 455), (318, 454), (317, 453), (316, 452), (315, 451), (314, 450), (313, 449), (312, 448), (311, 447), (310, 446), (309, 445), (308, 444), (307, 443), (306, 442), (305, 441), (304, 440), (303, 439), (302, 438), (301, 437), (300, 436), (299, 435), (298, 434), (297, 433), (296, 432), (295, 431), (294, 430), (293, 429), (292, 428), (291, 427), (290, 426), (289, 425), (288, 424), (287, 423), (286, 422), (285, 421), (284, 420), (283, 419), (282, 418), (281, 417), (280, 416), (279, 415), (278, 414), (277, 413), (276, 412), (275, 411), (274, 410), (273, 409), (272, 408), (271, 407), (270, 406), (269, 405), (268, 404), (267, 403), (266, 402), (265, 401), (264, 400), (263, 399), (262, 398), (261, 397), (260, 396), (259, 395), (258, 394), (257, 393), (256, 392), (255, 391), (254, 390), (253, 389), (252, 388), (251, 387), (250, 386), (249, 385), (248, 384), (247, 383), (246, 382), (245, 381), (244, 380), (243, 379), (242, 378), (241, 377), (240, 376), (239, 375), (238, 374), (237, 373), (236, 372), (235, 371), (234, 370), (233, 369), (232, 368), (231, 367), (230, 366), (229, 365), (228, 364), (227, 363), (226, 362), (225, 361), (224, 360), (223, 359), (222, 358), (221, 357), (220, 356), (219, 355), (218, 354), (217, 353), (216, 352), (215, 351), (214, 350), (213, 349), (212, 348), (211, 347), (211, 346), (211, 345), (211, 344), (211, 343), (211, 342), (211, 341), (211, 340), (211, 339), (211, 338), (211, 337), (211, 336), (211, 335), (211, 334), (211, 333), (211, 332), (211, 331), (211, 330), (211, 329), (211, 328), (211, 327), (211, 326), (211, 325), (211, 324), (211, 323), (211, 322), (211, 321), (211, 320), (211, 319), (211, 318), (211, 317), (211, 316), (211, 315), (211, 314), (211, 313), (211, 312), (211, 311), (211, 310), (211, 309), (211, 308), (211, 307), (211, 306), (211, 305), (211, 304), (211, 303), (211, 302), (211, 301), (211, 300), (211, 299), (211, 298), (211, 297), (211, 296), (211, 295), (211, 294), (211, 293), (211, 292), (211, 291), (211, 290), (211, 289), (211, 288), (211, 287), (211, 286), (211, 285), (211, 284), (211, 283), (211, 282), (211, 281), (211, 280), (211, 279), (211, 278), (211, 277), (211, 276), (211, 275), (211, 274), (211, 273), (211, 272), (211, 271), (211, 270), (211, 269), (211, 268), (211, 267), (211, 266), (211, 265), (211, 264), (211, 263), (211, 262), (211, 261), (211, 260), (211, 259), (211, 258), (211, 257), (211, 256), (211, 255), (211, 254), (211, 253), (211, 252), (211, 251), (211, 250), (211, 249), (211, 248), (211, 247), (211, 246), (211, 245), (211, 244), (211, 243), (211, 242), (211, 241), (211, 240), (211, 239), (211, 238), (211, 237), (211, 236), (211, 235), (211, 234), (211, 233), (211, 232), (211, 231), (211, 230), (211, 229), (211, 228), (211, 227), (211, 226), (211, 225), (211, 224), (211, 223), (211, 222), (211, 221), (211, 220), (211, 219), (211, 218), (211, 217), (211, 216), (211, 215), (211, 214), (211, 213), (211, 212), (211, 211), (211, 210), (211, 209), (211, 208), (211, 207), (211, 206), (211, 205), (211, 204), (211, 203), (211, 202), (211, 201), (211, 200), (211, 199), (211, 198), (211, 197), (211, 196), (211, 195), (211, 194), (211, 193), (211, 192), (211, 191), (211, 190), (211, 189), (211, 188), (211, 187), (211, 186), (211, 185), (211, 184), (211, 183), (211, 182), (211, 181), (211, 180), (211, 179), (211, 178), (211, 177), (211, 176), (211, 175), (211, 174), (211, 173), (211, 172), (211, 171), (211, 170), (211, 169), (211, 168), (211, 167), (211, 166), (211, 165), (211, 164), (211, 163), (211, 162), (211, 161), (211, 160), (211, 159), (211, 158), (211, 157), (211, 156), (211, 155), (211, 154), (211, 153), (211, 152), (211, 151), (211, 150), (211, 149), (211, 148), (211, 147), (211, 146), (211, 145), (211, 144), (211, 143), (211, 142), (211, 141), (211, 140), (211, 139), (211, 138), (211, 137), (211, 136), (211, 135), (211, 134), (211, 133), (211, 132), (211, 131), (211, 130), (211, 129), (211, 128), (211, 127), (211, 126), (211, 125), (210, 124), (209, 123), (208, 122), (207, 121), (206, 120), (205, 119), (204, 118), (203, 117), (202, 116), (201, 115), (200, 114), (199, 113), (198, 112), (197, 111), (196, 110), (195, 109), (194, 108), (193, 107), (192, 106), (191, 105), (190, 104), (189, 103), (188, 102), (187, 101), (186, 100), (185, 99), (184, 98), (183, 97), (182, 96), (181, 95), (180, 94), (179, 94), (178, 94), (177, 94), (176, 94), (175, 94), (174, 94), (173, 94), (172, 94), (171, 94), (170, 94), (169, 94), (168, 94), (167, 94), (166, 94), (165, 94), (164, 94), (163, 94), (162, 94), (161, 94), (160, 94), (159, 94), (158, 94), (157, 94), (156, 94), (155, 94), (154, 94), (153, 94), (152, 94), (151, 94), (150, 94), (149, 94), (148, 94), (147, 94), (146, 94), (145, 94), (144, 94), (143, 94), (142, 94), (141, 94), (140, 94), (139, 94), (138, 94), (137, 94), (136, 94), (135, 94), (134, 94), (133, 94), (132, 94), (131, 94), (130, 94), (129, 94), (128, 94), (127, 94), (126, 94), (125, 94), (124, 94), (123, 94), (122, 94), (121, 94), (120, 94), (119, 94), (118, 94), (117, 94), (116, 94), (115, 94), (114, 94), (113, 94), (112, 94), (111, 94), (110, 94), (109, 94), (108, 94), (107, 94), (106, 94), (105, 94), (104, 94), (103, 94), (102, 94), (101, 94), (100, 94), (99, 94), (98, 94), (97, 94), (96, 94), (95, 94), (94, 94), (93, 94), (92, 94), (91, 94), (90, 94), (89, 94), (88, 94), (87, 94), (86, 94), (85, 94), (84, 94), (83, 94), (82, 94), (81, 94), (80, 94), (79, 94), (78, 94), (77, 94), (76, 94), (75, 94), (74, 94), (73, 93), (72, 92), (71, 91), (70, 90), (69, 89), (68, 88), (67, 87), (66, 86), (65, 85), (64, 84), (63, 83), (62, 82), (61, 81), (60, 80), (59, 79), (58, 78), (57, 77), (56, 76), (55, 75), (54, 74), (53, 73), (52, 72), (51, 71), (50, 70), (49, 69), (48, 68), (47, 67), (46, 66), (45, 65), (44, 64), (43, 63), (42, 62), (41, 61), (40, 60), (39, 59), (38, 58), (37, 57), (36, 56), (35, 55), (34, 54), (33, 53), (32, 52), (31, 51), (30, 50), (29, 49), (28, 48), (27, 47), (26, 46), (25, 45), (24, 44), (23, 43), (22, 42), (21, 41)]\n"
     ]
    }
   ],
   "source": [
    "print(backtrack)"
   ]
  },
  {
   "cell_type": "code",
   "execution_count": 66,
   "metadata": {},
   "outputs": [
    {
     "name": "stdout",
     "output_type": "stream",
     "text": [
      "429445\n"
     ]
    }
   ],
   "source": [
    "# Backtracking with iterating over list\n",
    "# canvas_1=canvas\n",
    "# parent= current_node[2]\n",
    "# backtrack=[]\n",
    "# while parent!=0:\n",
    "#     for nodees in closed_nodes:\n",
    "#         if nodees[1]==parent:\n",
    "#             backtrack.append(nodees[3])\n",
    "#             cv2.circle(canvas_1, (nodees[3][0],500-nodees[3][1]), 1, [0,255,0], -1)\n",
    "#             parent=nodees[2]\n",
    "\n",
    "# cv2.imshow('window',canvas_1)\n",
    "# cv2.waitKey(0)\n",
    "# cv2.destroyAllWindows()\n",
    "\n",
    "# Backtracking with iterating over SET\n",
    "# canvas_1=canvas\n",
    "# parent= current_node[2]\n",
    "# backtrack=[]\n",
    "# while parent!=0:\n",
    "#     for nodees in closed_set1:\n",
    "#         if nodees[1]==parent:\n",
    "#             backtrack.append(nodees[3])\n",
    "#             cv2.circle(canvas_1, (nodees[3][0],500-nodees[3][1]), 1, [0,255,0], -1)\n",
    "#             parent=nodees[2]\n",
    "\n",
    "# cv2.imshow('window',canvas_1)\n",
    "# cv2.waitKey(0)\n",
    "# cv2.destroyAllWindows()\n",
    "\n",
    "# Backtracking with iterating over Dictionary\n",
    "# canvas_1=canvas\n",
    "# parent= current_node[2]\n",
    "# print(parent)\n",
    "# backtrack=[]\n",
    "# while parent!=0:\n",
    "#     coord=named_node[parent]\n",
    "#     backtrack.append(named_node[parent])\n",
    "#     parent=visited_nodes[parent]\n",
    "#     cv2.circle(canvas_1, (coord[0],500-coord[1]), 1, [0,250,0], -1)\n",
    "#     # count=0\n",
    "#     # while count!=99999:\n",
    "#     #     count+=1\n",
    "#     cv2.imshow('window',canvas_1)\n",
    "#     cv2.waitKey(1)\n",
    "# cv2.waitKey(0)\n",
    "# cv2.destroyAllWindows()\n",
    "# print(backtrack)\n",
    "\n",
    "# Backtracking with iterating over Dictionary\n",
    "#Reversing the visualization\n",
    "parent= current_node[2]\n",
    "print(parent)\n",
    "backtrack=[]\n",
    "while parent!=0:\n",
    "    backtrack.append(named_node[parent])\n",
    "    parent=visited_nodes[parent]\n",
    "backtrack.reverse()\n",
    "for coord in (backtrack):\n",
    "    cv2.circle(canvas_1, (coord[0],500-coord[1]), 1, [0,250,0], -1)\n",
    "    cv2.imshow('window',canvas_1)\n",
    "    cv2.waitKey(1)\n",
    "cv2.waitKey(0)\n",
    "cv2.destroyAllWindows()"
   ]
  },
  {
   "cell_type": "code",
   "execution_count": 9,
   "metadata": {},
   "outputs": [
    {
     "name": "stdout",
     "output_type": "stream",
     "text": [
      "362357\n"
     ]
    }
   ],
   "source": [
    "# Visualising Backtracking \n",
    "parent= current_node[2]\n",
    "print(parent)\n",
    "backtrack=[]\n",
    "while parent!=0:\n",
    "    backtrack.append(named_node[parent])\n",
    "    parent=visited_nodes[parent]\n",
    "backtrack.reverse()\n",
    "for coord in (backtrack):\n",
    "    \n",
    "    cv2.circle(canvas_1, (coord[0],500-coord[1]), 1, [0,250,0], -1)\n",
    "    cv2.imshow('window',canvas_1)\n",
    "    cv2.waitKey(1)\n",
    "cv2.waitKey(0)\n",
    "cv2.destroyAllWindows()"
   ]
  },
  {
   "cell_type": "code",
   "execution_count": 61,
   "metadata": {},
   "outputs": [],
   "source": [
    "cv2.imshow('win',canvas_1)\n",
    "cv2.waitKey(0)\n",
    "cv2.destroyAllWindows()"
   ]
  },
  {
   "cell_type": "code",
   "execution_count": 116,
   "metadata": {},
   "outputs": [
    {
     "name": "stdout",
     "output_type": "stream",
     "text": [
      "[(64, 300), (63, 300), (62, 300), (61, 300), (60, 300)]\n"
     ]
    }
   ],
   "source": [
    "print(backtrack)"
   ]
  },
  {
   "cell_type": "code",
   "execution_count": 115,
   "metadata": {},
   "outputs": [],
   "source": [
    "for ele in closed_nodes:\n",
    "    if ele[3][1]<=0:\n",
    "        print(ele[3])"
   ]
  },
  {
   "cell_type": "code",
   "execution_count": 106,
   "metadata": {},
   "outputs": [
    {
     "name": "stdout",
     "output_type": "stream",
     "text": [
      "(10, 20)\n"
     ]
    }
   ],
   "source": [
    "diction={200:{12:{2:(10,20)}}}\n",
    "print(diction[200][12][2])"
   ]
  },
  {
   "cell_type": "markdown",
   "metadata": {},
   "source": [
    "There are four collection data types in the Python programming language:\n",
    "\n",
    "List is a collection which is ordered and changeable. Allows duplicate members.\n",
    "\n",
    "Tuple is a collection which is ordered and unchangeable. Allows duplicate members.\n",
    "\n",
    "Set is a collection which is unordered, unchangeable*, and unindexed. No duplicate members.\n",
    "\n",
    "Dictionary is a collection which is ordered** and changeable. No duplicate members."
   ]
  },
  {
   "cell_type": "markdown",
   "metadata": {},
   "source": []
  },
  {
   "cell_type": "code",
   "execution_count": 178,
   "metadata": {},
   "outputs": [
    {
     "name": "stdout",
     "output_type": "stream",
     "text": [
      "<class 'list'>\n",
      "<class 'set'>\n",
      "{(3, 1), (7, 22), (3000, 4), (5, 6), (1000, 2)}\n",
      "False\n"
     ]
    }
   ],
   "source": [
    "aa=[(1000,2),(3000,4),(5,6),(7,22),(3,1)]\n",
    "print(type(aa))\n",
    "aa=set(aa)\n",
    "bb=set([(3000,4),(5,6)])\n",
    "\n",
    "print(type(aa))\n",
    "print(aa)\n",
    "print(bb.issubset(aa))"
   ]
  },
  {
   "cell_type": "code",
   "execution_count": 163,
   "metadata": {},
   "outputs": [
    {
     "name": "stdout",
     "output_type": "stream",
     "text": [
      "<class 'set'>\n"
     ]
    }
   ],
   "source": [
    "ss=set()\n",
    "print(type(ss))"
   ]
  },
  {
   "cell_type": "code",
   "execution_count": 164,
   "metadata": {},
   "outputs": [
    {
     "name": "stdout",
     "output_type": "stream",
     "text": [
      "{2}\n"
     ]
    }
   ],
   "source": [
    "ss.add(2)\n",
    "print(ss)"
   ]
  },
  {
   "cell_type": "code",
   "execution_count": 165,
   "metadata": {},
   "outputs": [
    {
     "name": "stdout",
     "output_type": "stream",
     "text": [
      "{'good', 2}\n"
     ]
    }
   ],
   "source": [
    "ss.add(\"good\")\n",
    "print(ss)"
   ]
  },
  {
   "cell_type": "code",
   "execution_count": 166,
   "metadata": {},
   "outputs": [
    {
     "name": "stdout",
     "output_type": "stream",
     "text": [
      "good\n"
     ]
    }
   ],
   "source": [
    "print(ss.pop())"
   ]
  },
  {
   "cell_type": "code",
   "execution_count": null,
   "metadata": {},
   "outputs": [],
   "source": []
  }
 ],
 "metadata": {
  "kernelspec": {
   "display_name": ".enpm661",
   "language": "python",
   "name": "python3"
  },
  "language_info": {
   "codemirror_mode": {
    "name": "ipython",
    "version": 3
   },
   "file_extension": ".py",
   "mimetype": "text/x-python",
   "name": "python",
   "nbconvert_exporter": "python",
   "pygments_lexer": "ipython3",
   "version": "3.12.2"
  }
 },
 "nbformat": 4,
 "nbformat_minor": 2
}
